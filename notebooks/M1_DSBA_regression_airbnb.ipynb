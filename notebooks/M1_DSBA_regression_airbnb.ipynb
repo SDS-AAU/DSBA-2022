{
  "nbformat": 4,
  "nbformat_minor": 0,
  "metadata": {
    "colab": {
      "provenance": [],
      "collapsed_sections": [],
      "authorship_tag": "ABX9TyNr87FzWTMGuP6P3OrkGgRK",
      "include_colab_link": true
    },
    "kernelspec": {
      "name": "python3",
      "display_name": "Python 3"
    },
    "language_info": {
      "name": "python"
    }
  },
  "cells": [
    {
      "cell_type": "markdown",
      "metadata": {
        "id": "view-in-github",
        "colab_type": "text"
      },
      "source": [
        "<a href=\"https://colab.research.google.com/github/SDS-AAU/DSBA-2022/blob/master/static/notebooks/M1_DSBA_regression_airbnb.ipynb\" target=\"_parent\"><img src=\"https://colab.research.google.com/assets/colab-badge.svg\" alt=\"Open In Colab\"/></a>"
      ]
    },
    {
      "cell_type": "code",
      "execution_count": 1,
      "metadata": {
        "id": "Cry4YO4tYGDf"
      },
      "outputs": [],
      "source": [
        "import pandas as pd"
      ]
    },
    {
      "cell_type": "code",
      "source": [
        "data = pd.read_csv('http://data.insideairbnb.com/denmark/hovedstaden/copenhagen/2022-06-24/data/listings.csv.gz')"
      ],
      "metadata": {
        "id": "giJ0AIU9Y10g"
      },
      "execution_count": 2,
      "outputs": []
    },
    {
      "cell_type": "code",
      "source": [
        "data['price'] = data.price.str.replace('$','')\n",
        "data['price'] = data.price.str.replace(',','')"
      ],
      "metadata": {
        "colab": {
          "base_uri": "https://localhost:8080/"
        },
        "id": "bGxvAhmzY3iC",
        "outputId": "62ba43a7-ecd4-45a8-d5c6-d5ff1ce7b57d"
      },
      "execution_count": 7,
      "outputs": [
        {
          "output_type": "stream",
          "name": "stderr",
          "text": [
            "/usr/local/lib/python3.7/dist-packages/ipykernel_launcher.py:1: FutureWarning: The default value of regex will change from True to False in a future version. In addition, single character regular expressions will *not* be treated as literal strings when regex=True.\n",
            "  \"\"\"Entry point for launching an IPython kernel.\n"
          ]
        }
      ]
    },
    {
      "cell_type": "code",
      "source": [
        "data['price'] = data['price'].astype('float')"
      ],
      "metadata": {
        "id": "Op2FNNtRY4v9"
      },
      "execution_count": 12,
      "outputs": []
    },
    {
      "cell_type": "code",
      "source": [
        "data = data[data.room_type.isin(['Private room', 'Entire home/apt'])]"
      ],
      "metadata": {
        "id": "PQLy5Vu4aKbK"
      },
      "execution_count": 14,
      "outputs": []
    },
    {
      "cell_type": "code",
      "source": [
        "data['price_z'] = (data['price'] - data['price'].mean())/data['price'].std(ddof=0)\n",
        "data['price_z'] = data['price_z'].abs()\n",
        "data = data[data.price_z < 3]"
      ],
      "metadata": {
        "id": "dIruCkv6aX1U"
      },
      "execution_count": null,
      "outputs": []
    },
    {
      "cell_type": "code",
      "source": [
        "# more price-filtering\n",
        "\n",
        "data = data[data.price < 2000]"
      ],
      "metadata": {
        "id": "PstTPjWllep3"
      },
      "execution_count": 132,
      "outputs": []
    },
    {
      "cell_type": "code",
      "source": [
        "selected_df = data[['neighbourhood_cleansed','room_type','accommodates','bedrooms','beds','minimum_nights','maximum_nights','price']]"
      ],
      "metadata": {
        "id": "u0MGMPH1bNCI"
      },
      "execution_count": 133,
      "outputs": []
    },
    {
      "cell_type": "code",
      "source": [
        "selected_df = selected_df.dropna()\n",
        "#selected_df = selected_df.dropna(subset=['bedrooms','beds'])"
      ],
      "metadata": {
        "id": "PLzJBY1wj5Rf"
      },
      "execution_count": 134,
      "outputs": []
    },
    {
      "cell_type": "code",
      "source": [
        "X = selected_df.iloc[:,:-1]"
      ],
      "metadata": {
        "id": "Ugy3mQPikJ-r"
      },
      "execution_count": 135,
      "outputs": []
    },
    {
      "cell_type": "code",
      "source": [
        "y = selected_df.price"
      ],
      "metadata": {
        "id": "19bLb2mFkbe2"
      },
      "execution_count": 136,
      "outputs": []
    },
    {
      "cell_type": "code",
      "source": [
        "# encoding categoricals to dummies\n",
        "X = pd.get_dummies(X)"
      ],
      "metadata": {
        "id": "tBG2bKifan3q"
      },
      "execution_count": 137,
      "outputs": []
    },
    {
      "cell_type": "code",
      "source": [
        "from sklearn.preprocessing import StandardScaler"
      ],
      "metadata": {
        "id": "wQjsEPcKaqeB"
      },
      "execution_count": 138,
      "outputs": []
    },
    {
      "cell_type": "code",
      "source": [
        "scaler = StandardScaler()"
      ],
      "metadata": {
        "id": "Nqyo2ivVdCw0"
      },
      "execution_count": 139,
      "outputs": []
    },
    {
      "cell_type": "code",
      "source": [
        "transformed_nummerical = scaler.fit_transform(X.iloc[:,:5])"
      ],
      "metadata": {
        "id": "tfK0kn7hdRNf"
      },
      "execution_count": 140,
      "outputs": []
    },
    {
      "cell_type": "code",
      "source": [
        "X.iloc[:,:5] = transformed_nummerical"
      ],
      "metadata": {
        "id": "QGixug8zdYkb"
      },
      "execution_count": 141,
      "outputs": []
    },
    {
      "cell_type": "code",
      "source": [
        "X.isnull().sum()"
      ],
      "metadata": {
        "colab": {
          "base_uri": "https://localhost:8080/"
        },
        "id": "qrx6-so4dsFH",
        "outputId": "a703d859-fb7d-4ac3-e4cf-12e8027ba748"
      },
      "execution_count": 142,
      "outputs": [
        {
          "output_type": "execute_result",
          "data": {
            "text/plain": [
              "accommodates                                        0\n",
              "bedrooms                                            0\n",
              "beds                                                0\n",
              "minimum_nights                                      0\n",
              "maximum_nights                                      0\n",
              "neighbourhood_cleansed_Amager Vest                  0\n",
              "neighbourhood_cleansed_Amager st                    0\n",
              "neighbourhood_cleansed_Bispebjerg                   0\n",
              "neighbourhood_cleansed_Brnshj-Husum                 0\n",
              "neighbourhood_cleansed_Frederiksberg                0\n",
              "neighbourhood_cleansed_Indre By                     0\n",
              "neighbourhood_cleansed_Nrrebro                      0\n",
              "neighbourhood_cleansed_Valby                        0\n",
              "neighbourhood_cleansed_Vanlse                       0\n",
              "neighbourhood_cleansed_Vesterbro-Kongens Enghave    0\n",
              "neighbourhood_cleansed_sterbro                      0\n",
              "room_type_Entire home/apt                           0\n",
              "room_type_Private room                              0\n",
              "dtype: int64"
            ]
          },
          "metadata": {},
          "execution_count": 142
        }
      ]
    },
    {
      "cell_type": "code",
      "source": [
        "from sklearn.model_selection import train_test_split"
      ],
      "metadata": {
        "id": "Yigmmo7fgUtw"
      },
      "execution_count": 143,
      "outputs": []
    },
    {
      "cell_type": "code",
      "source": [
        "X_train, X_test, y_train, y_test = train_test_split(X, y)"
      ],
      "metadata": {
        "id": "1dOqwORHghmU"
      },
      "execution_count": 144,
      "outputs": []
    },
    {
      "cell_type": "code",
      "source": [
        "from sklearn.linear_model import LinearRegression"
      ],
      "metadata": {
        "id": "kUM-K0xegkkF"
      },
      "execution_count": 145,
      "outputs": []
    },
    {
      "cell_type": "code",
      "source": [
        "model_ols = LinearRegression()"
      ],
      "metadata": {
        "id": "3gB1GhC1gzH-"
      },
      "execution_count": 146,
      "outputs": []
    },
    {
      "cell_type": "code",
      "source": [
        "model_ols.fit(X_train, y_train)"
      ],
      "metadata": {
        "colab": {
          "base_uri": "https://localhost:8080/"
        },
        "id": "82QldLD3g1kz",
        "outputId": "81385fdc-670d-4b28-d5b1-13d35f3f4390"
      },
      "execution_count": 147,
      "outputs": [
        {
          "output_type": "execute_result",
          "data": {
            "text/plain": [
              "LinearRegression()"
            ]
          },
          "metadata": {},
          "execution_count": 147
        }
      ]
    },
    {
      "cell_type": "code",
      "source": [
        "print('Model OLS' + ' ' + str(model_ols.score(X_test, y_test)))"
      ],
      "metadata": {
        "colab": {
          "base_uri": "https://localhost:8080/"
        },
        "id": "ipm2VHyIg3jm",
        "outputId": "bf32c3fe-82a0-47f3-d5bd-a24cb8d8d1cb"
      },
      "execution_count": 148,
      "outputs": [
        {
          "output_type": "stream",
          "name": "stdout",
          "text": [
            "Model OLS 0.26057693698649154\n"
          ]
        }
      ]
    },
    {
      "cell_type": "code",
      "source": [
        "y_pred = model_ols.predict(X_test)"
      ],
      "metadata": {
        "id": "hyAszB8liNNZ"
      },
      "execution_count": 149,
      "outputs": []
    },
    {
      "cell_type": "code",
      "source": [
        "from sklearn.metrics import mean_squared_error"
      ],
      "metadata": {
        "id": "oiHBtLayhy1s"
      },
      "execution_count": 150,
      "outputs": []
    },
    {
      "cell_type": "code",
      "source": [
        "mean_squared_error(y_test, y_pred, squared=False)"
      ],
      "metadata": {
        "colab": {
          "base_uri": "https://localhost:8080/"
        },
        "id": "cBmE9VkFh0cP",
        "outputId": "40717880-2b60-4e04-dc8e-64535bdf6e59"
      },
      "execution_count": 151,
      "outputs": [
        {
          "output_type": "execute_result",
          "data": {
            "text/plain": [
              "328.19861307173437"
            ]
          },
          "metadata": {},
          "execution_count": 151
        }
      ]
    },
    {
      "cell_type": "code",
      "source": [
        "from sklearn.ensemble import RandomForestRegressor"
      ],
      "metadata": {
        "id": "4Sjz4urkk5Zz"
      },
      "execution_count": 152,
      "outputs": []
    },
    {
      "cell_type": "code",
      "source": [
        "model_rf = RandomForestRegressor(n_estimators=25)"
      ],
      "metadata": {
        "id": "70_RRdjZk7SZ"
      },
      "execution_count": 153,
      "outputs": []
    },
    {
      "cell_type": "code",
      "source": [
        "model_rf.fit(X_train, y_train)"
      ],
      "metadata": {
        "colab": {
          "base_uri": "https://localhost:8080/"
        },
        "id": "thu49RXEk-hJ",
        "outputId": "d1a498e0-c3e0-471e-886e-0d6b64c55cc6"
      },
      "execution_count": 154,
      "outputs": [
        {
          "output_type": "execute_result",
          "data": {
            "text/plain": [
              "RandomForestRegressor(n_estimators=25)"
            ]
          },
          "metadata": {},
          "execution_count": 154
        }
      ]
    },
    {
      "cell_type": "code",
      "source": [
        "print('Model RF' + ' ' + str(model_rf.score(X_test, y_test)))"
      ],
      "metadata": {
        "colab": {
          "base_uri": "https://localhost:8080/"
        },
        "id": "4PVe4GOclB3_",
        "outputId": "43b66412-5ef0-4144-ab5b-c0f832b81718"
      },
      "execution_count": 155,
      "outputs": [
        {
          "output_type": "stream",
          "name": "stdout",
          "text": [
            "Model RF 0.28889576663421934\n"
          ]
        }
      ]
    },
    {
      "cell_type": "code",
      "source": [
        "y_pred = model_rf.predict(X_test)"
      ],
      "metadata": {
        "id": "nMKaWrhmlED0"
      },
      "execution_count": 156,
      "outputs": []
    },
    {
      "cell_type": "code",
      "source": [
        "mean_squared_error(y_test, y_pred, squared=False)"
      ],
      "metadata": {
        "colab": {
          "base_uri": "https://localhost:8080/"
        },
        "id": "c3ciirILlKqW",
        "outputId": "353c67be-20bb-4d64-ce55-4958cbbec4e5"
      },
      "execution_count": 131,
      "outputs": [
        {
          "output_type": "execute_result",
          "data": {
            "text/plain": [
              "432.0445846391307"
            ]
          },
          "metadata": {},
          "execution_count": 131
        }
      ]
    }
  ]
}