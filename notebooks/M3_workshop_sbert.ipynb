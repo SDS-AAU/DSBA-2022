{
  "cells": [
    {
      "cell_type": "markdown",
      "metadata": {
        "id": "view-in-github",
        "colab_type": "text"
      },
      "source": [
        "<a href=\"https://colab.research.google.com/github/SDS-AAU/DSBA-2022/blob/master/notebooks/M3_workshop_sbert.ipynb\" target=\"_parent\"><img src=\"https://colab.research.google.com/assets/colab-badge.svg\" alt=\"Open In Colab\"/></a>"
      ]
    },
    {
      "cell_type": "code",
      "execution_count": 41,
      "metadata": {
        "id": "X8FpeYl5fcmF"
      },
      "outputs": [],
      "source": [
        "!pip install -qU transformers sentence-transformers"
      ]
    },
    {
      "cell_type": "markdown",
      "source": [
        "# Introduction & Applications: Semantic Similarity \n",
        "\n",
        "xxx"
      ],
      "metadata": {
        "id": "tRSR9dZwkIVj"
      }
    },
    {
      "cell_type": "markdown",
      "source": [
        "## Toy example"
      ],
      "metadata": {
        "id": "5Md8vVgDlhY4"
      }
    },
    {
      "cell_type": "markdown",
      "source": [
        "A simple example of a couple of sentences. Imagine our task is to calculate semantic similarity between them:"
      ],
      "metadata": {
        "id": "7qSPcnHUlaml"
      }
    },
    {
      "cell_type": "code",
      "execution_count": 42,
      "metadata": {
        "id": "xTLsRK2vfcmD"
      },
      "outputs": [],
      "source": [
        "a = \"purple is the best city in the forest\"\n",
        "b = \"there is an art to getting your way and throwing bananas on to the street is not it\"  # this is very similar to 'g'\n",
        "c = \"it is not often you find soggy bananas on the street\"\n",
        "d = \"green should have smelled more tranquil but somehow it just tasted rotten\"\n",
        "e = \"joyce enjoyed eating pancakes with ketchup\"\n",
        "f = \"as the asteroid hurtled toward earth becky was upset her dentist appointment had been canceled\"\n",
        "g = \"to get your way you must not bombard the road with yellow fruit\"  # this is very similar to 'b'"
      ]
    },
    {
      "cell_type": "code",
      "source": [
        "sentences = [\"purple is the best city in the forest\",\n",
        "             \"there is an art to getting your way and throwing bananas on to the street is not it\",\n",
        "             \"it is not often you find soggy bananas on the street\",\n",
        "             \"green should have smelled more tranquil but somehow it just tasted rotten\",\n",
        "             \"joyce enjoyed eating pancakes with ketchup\",\n",
        "             \"as the asteroid hurtled toward earth becky was upset her dentist appointment had been canceled\",\n",
        "             \"to get your way you must not bombard the road with yellow fruit\" ]"
      ],
      "metadata": {
        "id": "WqAU8xx-m-4x"
      },
      "execution_count": 66,
      "outputs": []
    },
    {
      "cell_type": "markdown",
      "metadata": {
        "id": "4Lo1QrBCfcl_"
      },
      "source": [
        "### BERT\n",
        "\n",
        "Lets we'll take a look at how we can use transformer models (like BERT) to create sentence vectors for calculating similarity. Let's start by defining a few example sentences."
      ]
    },
    {
      "cell_type": "code",
      "execution_count": 76,
      "metadata": {
        "id": "VhXWj2pPfcmG"
      },
      "outputs": [],
      "source": [
        "from transformers import AutoTokenizer, AutoModel\n",
        "import torch"
      ]
    },
    {
      "cell_type": "markdown",
      "metadata": {
        "id": "SQ0ULI98fcmG"
      },
      "source": [
        "Initialize our HF transformer model and tokenizer - using a pretrained BERT model."
      ]
    },
    {
      "cell_type": "code",
      "execution_count": 77,
      "metadata": {
        "id": "3JvNtY2BfcmI"
      },
      "outputs": [],
      "source": [
        "tokenizer = AutoTokenizer.from_pretrained('sentence-transformers/bert-base-nli-mean-tokens')\n",
        "model = AutoModel.from_pretrained('sentence-transformers/bert-base-nli-mean-tokens')"
      ]
    },
    {
      "cell_type": "markdown",
      "metadata": {
        "id": "wE2EXEx7fcmM"
      },
      "source": [
        "Tokenize all of our sentences."
      ]
    },
    {
      "cell_type": "code",
      "execution_count": 78,
      "metadata": {
        "id": "cv2OJ7bBfcmM"
      },
      "outputs": [],
      "source": [
        "tokens = tokenizer(sentences,\n",
        "                   max_length=128,\n",
        "                   truncation=True,\n",
        "                   padding='max_length',\n",
        "                   return_tensors='pt')"
      ]
    },
    {
      "cell_type": "code",
      "execution_count": 79,
      "metadata": {
        "id": "mCU7dhfSfcmN",
        "outputId": "2d3d2fd6-7f74-45cc-bb8c-64393beb63c7",
        "colab": {
          "base_uri": "https://localhost:8080/"
        }
      },
      "outputs": [
        {
          "output_type": "execute_result",
          "data": {
            "text/plain": [
              "dict_keys(['input_ids', 'token_type_ids', 'attention_mask'])"
            ]
          },
          "metadata": {},
          "execution_count": 79
        }
      ],
      "source": [
        "tokens.keys()"
      ]
    },
    {
      "cell_type": "code",
      "execution_count": 80,
      "metadata": {
        "id": "eX4pjINhfcmO",
        "outputId": "f59dde5d-5e60-4d98-df6e-c528ce3263e3",
        "colab": {
          "base_uri": "https://localhost:8080/"
        }
      },
      "outputs": [
        {
          "output_type": "execute_result",
          "data": {
            "text/plain": [
              "tensor([ 101, 6379, 2003, 1996, 2190, 2103, 1999, 1996, 3224,  102,    0,    0,\n",
              "           0,    0,    0,    0,    0,    0,    0,    0,    0,    0,    0,    0,\n",
              "           0,    0,    0,    0,    0,    0,    0,    0,    0,    0,    0,    0,\n",
              "           0,    0,    0,    0,    0,    0,    0,    0,    0,    0,    0,    0,\n",
              "           0,    0,    0,    0,    0,    0,    0,    0,    0,    0,    0,    0,\n",
              "           0,    0,    0,    0,    0,    0,    0,    0,    0,    0,    0,    0,\n",
              "           0,    0,    0,    0,    0,    0,    0,    0,    0,    0,    0,    0,\n",
              "           0,    0,    0,    0,    0,    0,    0,    0,    0,    0,    0,    0,\n",
              "           0,    0,    0,    0,    0,    0,    0,    0,    0,    0,    0,    0,\n",
              "           0,    0,    0,    0,    0,    0,    0,    0,    0,    0,    0,    0,\n",
              "           0,    0,    0,    0,    0,    0,    0,    0])"
            ]
          },
          "metadata": {},
          "execution_count": 80
        }
      ],
      "source": [
        "tokens['input_ids'][0]"
      ]
    },
    {
      "cell_type": "markdown",
      "metadata": {
        "id": "M5a8NbhEfcmP"
      },
      "source": [
        "Process our tokenized tensors through the model."
      ]
    },
    {
      "cell_type": "code",
      "execution_count": 81,
      "metadata": {
        "id": "Yd3pq0L5fcmP",
        "outputId": "7760bd18-dba0-41aa-893b-343dc3fcf8a1",
        "colab": {
          "base_uri": "https://localhost:8080/"
        }
      },
      "outputs": [
        {
          "output_type": "execute_result",
          "data": {
            "text/plain": [
              "odict_keys(['last_hidden_state', 'pooler_output'])"
            ]
          },
          "metadata": {},
          "execution_count": 81
        }
      ],
      "source": [
        "outputs = model(**tokens)\n",
        "outputs.keys()"
      ]
    },
    {
      "cell_type": "markdown",
      "metadata": {
        "id": "swmG3wVTfcmQ"
      },
      "source": [
        "Here we can see the final embedding layer, *last_hidden_state*."
      ]
    },
    {
      "cell_type": "code",
      "execution_count": 49,
      "metadata": {
        "id": "FpcX75fLfcmQ",
        "outputId": "f7385e2a-a149-450e-d699-9f1a52b1ef02",
        "colab": {
          "base_uri": "https://localhost:8080/"
        }
      },
      "outputs": [
        {
          "output_type": "execute_result",
          "data": {
            "text/plain": [
              "tensor([[-0.6239, -0.2058,  0.0411,  ...,  0.1490,  0.5681,  0.2381],\n",
              "        [-0.3694, -0.1485,  0.3780,  ...,  0.4204,  0.5553,  0.1441],\n",
              "        [-0.7221, -0.3813,  0.2031,  ...,  0.0761,  0.5162,  0.2813],\n",
              "        ...,\n",
              "        [-0.1894, -0.3711,  0.3034,  ...,  0.1536,  0.3265,  0.1376],\n",
              "        [-0.2496, -0.5227,  0.2341,  ...,  0.3419,  0.3164,  0.0256],\n",
              "        [-0.3311, -0.4430,  0.3492,  ...,  0.3655,  0.2910,  0.0728]],\n",
              "       grad_fn=<SelectBackward0>)"
            ]
          },
          "metadata": {},
          "execution_count": 49
        }
      ],
      "source": [
        "embeddings = outputs.last_hidden_state\n",
        "embeddings[0]"
      ]
    },
    {
      "cell_type": "code",
      "execution_count": 50,
      "metadata": {
        "id": "n3jaIO7ufcmQ",
        "outputId": "af7bb7a8-0987-4dfb-94a2-c8c592bd2916",
        "colab": {
          "base_uri": "https://localhost:8080/"
        }
      },
      "outputs": [
        {
          "output_type": "execute_result",
          "data": {
            "text/plain": [
              "torch.Size([128, 768])"
            ]
          },
          "metadata": {},
          "execution_count": 50
        }
      ],
      "source": [
        "embeddings[0].shape"
      ]
    },
    {
      "cell_type": "markdown",
      "metadata": {
        "id": "b3t4k-DSfcmR"
      },
      "source": [
        "Here we have our vectors of length *768*, but we see that these are not *sentence vectors* because we have a vector representation for each token in our sequence (128 in total). We need to perform a mean pooling operation to create the sentence vector.\n",
        "\n",
        "The first thing we do is multiply each value in our `embeddings` tensor by its respective `attention_mask` value. The `attention_mask` contains **1s** where we have 'real tokens' (eg not padding tokens), and 0s elsewhere - so this operation allows us to ignore non-real tokens."
      ]
    },
    {
      "cell_type": "code",
      "execution_count": 51,
      "metadata": {
        "id": "-ooaMBv9fcmS",
        "outputId": "a9221abe-b622-48ed-fae2-cf8b518eba62",
        "colab": {
          "base_uri": "https://localhost:8080/"
        }
      },
      "outputs": [
        {
          "output_type": "execute_result",
          "data": {
            "text/plain": [
              "torch.Size([7, 128, 768])"
            ]
          },
          "metadata": {},
          "execution_count": 51
        }
      ],
      "source": [
        "mask = tokens['attention_mask'].unsqueeze(-1).expand(embeddings.size()).float()\n",
        "mask.shape"
      ]
    },
    {
      "cell_type": "code",
      "execution_count": 52,
      "metadata": {
        "id": "IuyeNvE8fcmS",
        "outputId": "5b30b6f6-25b4-4394-80cb-c7a4a7ffd44b",
        "colab": {
          "base_uri": "https://localhost:8080/"
        }
      },
      "outputs": [
        {
          "output_type": "execute_result",
          "data": {
            "text/plain": [
              "tensor([[1., 1., 1.,  ..., 1., 1., 1.],\n",
              "        [1., 1., 1.,  ..., 1., 1., 1.],\n",
              "        [1., 1., 1.,  ..., 1., 1., 1.],\n",
              "        ...,\n",
              "        [0., 0., 0.,  ..., 0., 0., 0.],\n",
              "        [0., 0., 0.,  ..., 0., 0., 0.],\n",
              "        [0., 0., 0.,  ..., 0., 0., 0.]])"
            ]
          },
          "metadata": {},
          "execution_count": 52
        }
      ],
      "source": [
        "mask[0]"
      ]
    },
    {
      "cell_type": "markdown",
      "metadata": {
        "id": "1aCjpn3sfcmS"
      },
      "source": [
        "Now we have a masking array that has an equal shape to our output `embeddings` - we multiply those together to apply the masking operation on our outputs."
      ]
    },
    {
      "cell_type": "code",
      "execution_count": 53,
      "metadata": {
        "id": "UTraDqFnfcmT",
        "outputId": "28e06d5f-8c69-48e8-b600-4548584b77d6",
        "colab": {
          "base_uri": "https://localhost:8080/"
        }
      },
      "outputs": [
        {
          "output_type": "execute_result",
          "data": {
            "text/plain": [
              "tensor([[-0.6239, -0.2058,  0.0411,  ...,  0.1490,  0.5681,  0.2381],\n",
              "        [-0.3694, -0.1485,  0.3780,  ...,  0.4204,  0.5553,  0.1441],\n",
              "        [-0.7221, -0.3813,  0.2031,  ...,  0.0761,  0.5162,  0.2813],\n",
              "        ...,\n",
              "        [-0.0000, -0.0000,  0.0000,  ...,  0.0000,  0.0000,  0.0000],\n",
              "        [-0.0000, -0.0000,  0.0000,  ...,  0.0000,  0.0000,  0.0000],\n",
              "        [-0.0000, -0.0000,  0.0000,  ...,  0.0000,  0.0000,  0.0000]],\n",
              "       grad_fn=<SelectBackward0>)"
            ]
          },
          "metadata": {},
          "execution_count": 53
        }
      ],
      "source": [
        "masked_embeddings = embeddings * mask\n",
        "masked_embeddings[0]"
      ]
    },
    {
      "cell_type": "markdown",
      "metadata": {
        "id": "hWj1nPO6fcmT"
      },
      "source": [
        "Sum the remaining embeddings along axis 1 to get a total value in each of our 768 values."
      ]
    },
    {
      "cell_type": "code",
      "execution_count": 54,
      "metadata": {
        "id": "sUqQRdDvfcmT",
        "outputId": "ac80b021-757d-4ea1-e4fa-1a171164905f",
        "colab": {
          "base_uri": "https://localhost:8080/"
        }
      },
      "outputs": [
        {
          "output_type": "execute_result",
          "data": {
            "text/plain": [
              "torch.Size([7, 768])"
            ]
          },
          "metadata": {},
          "execution_count": 54
        }
      ],
      "source": [
        "summed = torch.sum(masked_embeddings, 1)\n",
        "summed.shape"
      ]
    },
    {
      "cell_type": "markdown",
      "metadata": {
        "id": "wt85yaLDfcmU"
      },
      "source": [
        "Next, we count the number of values that should be given attention in each position of the tensor (+1 for real tokens, +0 for non-real)."
      ]
    },
    {
      "cell_type": "code",
      "execution_count": 55,
      "metadata": {
        "id": "WbvetiX7fcmU",
        "outputId": "6563170e-dfd6-485b-de3f-dd90ec923a7d",
        "colab": {
          "base_uri": "https://localhost:8080/"
        }
      },
      "outputs": [
        {
          "output_type": "execute_result",
          "data": {
            "text/plain": [
              "torch.Size([7, 768])"
            ]
          },
          "metadata": {},
          "execution_count": 55
        }
      ],
      "source": [
        "counted = torch.clamp(mask.sum(1), min=1e-9)\n",
        "counted.shape"
      ]
    },
    {
      "cell_type": "markdown",
      "metadata": {
        "id": "L-b3yWs-fcmU"
      },
      "source": [
        "Finally, we get our mean-pooled values as the `summed` embeddings divided by the number of values that should be given attention, `counted`."
      ]
    },
    {
      "cell_type": "code",
      "execution_count": 56,
      "metadata": {
        "id": "58x19xMTfcmU",
        "outputId": "a7b86780-82f9-4d7b-b998-cf333677c095",
        "colab": {
          "base_uri": "https://localhost:8080/"
        }
      },
      "outputs": [
        {
          "output_type": "execute_result",
          "data": {
            "text/plain": [
              "torch.Size([7, 768])"
            ]
          },
          "metadata": {},
          "execution_count": 56
        }
      ],
      "source": [
        "mean_pooled = summed / counted\n",
        "mean_pooled.shape"
      ]
    },
    {
      "cell_type": "markdown",
      "metadata": {
        "id": "xxFoKuS_fcmV"
      },
      "source": [
        "Now we have our sentence vectors, we can calculate the cosine similarity between each."
      ]
    },
    {
      "cell_type": "code",
      "execution_count": 57,
      "metadata": {
        "id": "EpdRLZ8LfcmV"
      },
      "outputs": [],
      "source": [
        "from sklearn.metrics.pairwise import cosine_similarity\n",
        "import numpy as np"
      ]
    },
    {
      "cell_type": "code",
      "execution_count": 58,
      "metadata": {
        "id": "9vxOlp6OfcmV"
      },
      "outputs": [],
      "source": [
        "# convert to numpy array from torch tensor\n",
        "mean_pooled = mean_pooled.detach().numpy()\n",
        "\n",
        "# calculate similarities (will store in array)\n",
        "scores = np.zeros((mean_pooled.shape[0], mean_pooled.shape[0]))\n",
        "for i in range(mean_pooled.shape[0]):\n",
        "    scores[i, :] = cosine_similarity(\n",
        "        [mean_pooled[i]],\n",
        "        mean_pooled\n",
        "    )[0]"
      ]
    },
    {
      "cell_type": "code",
      "execution_count": 59,
      "metadata": {
        "id": "pAb1HorxfcmV",
        "outputId": "4a17eb59-7639-46f9-fb7b-8c136968f61f",
        "colab": {
          "base_uri": "https://localhost:8080/"
        }
      },
      "outputs": [
        {
          "output_type": "execute_result",
          "data": {
            "text/plain": [
              "array([[ 1.00000024,  0.18692759,  0.28297698,  0.2962825 ,  0.27451017,\n",
              "         0.10176268,  0.21696277],\n",
              "       [ 0.18692759,  1.00000012,  0.72058779,  0.51428938,  0.11749661,\n",
              "         0.19306946,  0.66182339],\n",
              "       [ 0.28297698,  0.72058779,  0.99999988,  0.4886443 ,  0.23568955,\n",
              "         0.17157146,  0.55993086],\n",
              "       [ 0.2962825 ,  0.51428938,  0.4886443 ,  0.99999988,  0.26985505,\n",
              "         0.37889439,  0.52388823],\n",
              "       [ 0.27451015,  0.11749662,  0.23568954,  0.26985505,  1.        ,\n",
              "         0.23422135, -0.01599767],\n",
              "       [ 0.10176268,  0.19306944,  0.17157145,  0.37889433,  0.23422135,\n",
              "         1.        ,  0.22319689],\n",
              "       [ 0.21696278,  0.66182339,  0.5599308 ,  0.52388823, -0.01599767,\n",
              "         0.22319692,  1.        ]])"
            ]
          },
          "metadata": {},
          "execution_count": 59
        }
      ],
      "source": [
        "scores"
      ]
    },
    {
      "cell_type": "markdown",
      "metadata": {
        "id": "-W6IKPO4fcmW"
      },
      "source": [
        "We can visualize these scores:"
      ]
    },
    {
      "cell_type": "code",
      "execution_count": 60,
      "metadata": {
        "id": "LicQ63dmfcmW"
      },
      "outputs": [],
      "source": [
        "import matplotlib.pyplot as plt\n",
        "import seaborn as sns"
      ]
    },
    {
      "cell_type": "code",
      "execution_count": 61,
      "metadata": {
        "id": "S26816sefcmW",
        "outputId": "a7932ce8-4a2e-4d3d-a3b6-8f100aabc6f0",
        "colab": {
          "base_uri": "https://localhost:8080/",
          "height": 559
        }
      },
      "outputs": [
        {
          "output_type": "execute_result",
          "data": {
            "text/plain": [
              "<matplotlib.axes._subplots.AxesSubplot at 0x7f2572a92250>"
            ]
          },
          "metadata": {},
          "execution_count": 61
        },
        {
          "output_type": "display_data",
          "data": {
            "text/plain": [
              "<Figure size 720x648 with 2 Axes>"
            ],
            "image/png": "[encoded data removed]"
          },
          "metadata": {
            "needs_background": "light"
          }
        }
      ],
      "source": [
        "plt.figure(figsize=(10,9))\n",
        "labels = ['a', 'b', 'c', 'd', 'e', 'f', 'g']\n",
        "sns.heatmap(scores, xticklabels=labels, yticklabels=labels, annot=True)"
      ]
    },
    {
      "cell_type": "markdown",
      "metadata": {
        "id": "qAJRXFdRfcmW"
      },
      "source": [
        "### Using sentence-transformers\n",
        "\n",
        "The `sentence-transformers` library allows us to compress all of the above into just a few lines of code."
      ]
    },
    {
      "cell_type": "code",
      "execution_count": 62,
      "metadata": {
        "id": "LjxtAmxnfcmX"
      },
      "outputs": [],
      "source": [
        "from sentence_transformers import SentenceTransformer\n",
        "\n",
        "model = SentenceTransformer('bert-base-nli-mean-tokens')"
      ]
    },
    {
      "cell_type": "markdown",
      "metadata": {
        "id": "Mj4ZYvJefcmX"
      },
      "source": [
        "We encode the sentences (producing our mean-pooled sentence embeddings) like so:"
      ]
    },
    {
      "cell_type": "code",
      "execution_count": 63,
      "metadata": {
        "id": "FB4JgbmLfcmX"
      },
      "outputs": [],
      "source": [
        "sentence_embeddings = model.encode([a, b, c, d, e, f, g])"
      ]
    },
    {
      "cell_type": "markdown",
      "metadata": {
        "id": "yPIFb_8qfcmX"
      },
      "source": [
        "And calculate the cosine similarity just like before."
      ]
    },
    {
      "cell_type": "code",
      "execution_count": 64,
      "metadata": {
        "id": "VYiYRl2wfcmY"
      },
      "outputs": [],
      "source": [
        "from sklearn.metrics.pairwise import cosine_similarity\n",
        "import numpy as np\n",
        "\n",
        "# calculate similarities (will store in array)\n",
        "scores = np.zeros((sentence_embeddings.shape[0], sentence_embeddings.shape[0]))\n",
        "for i in range(sentence_embeddings.shape[0]):\n",
        "    scores[i, :] = cosine_similarity(\n",
        "        [sentence_embeddings[i]],\n",
        "        sentence_embeddings\n",
        "    )[0]"
      ]
    },
    {
      "cell_type": "code",
      "source": [
        "plt.figure(figsize=(10,9))\n",
        "labels = ['a', 'b', 'c', 'd', 'e', 'f', 'g']\n",
        "sns.heatmap(scores, xticklabels=labels, yticklabels=labels, annot=True)"
      ],
      "metadata": {
        "id": "zdf6DNeaj_m4",
        "outputId": "9172232b-c8f1-4e78-e299-87074da21e13",
        "colab": {
          "base_uri": "https://localhost:8080/",
          "height": 559
        }
      },
      "execution_count": 65,
      "outputs": [
        {
          "output_type": "execute_result",
          "data": {
            "text/plain": [
              "<matplotlib.axes._subplots.AxesSubplot at 0x7f2572a649d0>"
            ]
          },
          "metadata": {},
          "execution_count": 65
        },
        {
          "output_type": "display_data",
          "data": {
            "text/plain": [
              "<Figure size 720x648 with 2 Axes>"
            ],
            "image/png": "[encoded data removed]"
          },
          "metadata": {
            "needs_background": "light"
          }
        }
      ]
    },
    {
      "cell_type": "markdown",
      "source": [
        "We can also writ a small function to find the most similar sentences to each others"
      ],
      "metadata": {
        "id": "vMkdj6LpnxJX"
      }
    },
    {
      "cell_type": "code",
      "source": [
        "#Find the pairs with the highest cosine similarity scores\n",
        "pairs = []\n",
        "for i in range(len(scores)-1):\n",
        "    for j in range(i+1, len(scores)):\n",
        "        pairs.append({'index': [i, j], 'score': scores[i][j]})"
      ],
      "metadata": {
        "id": "J6kvAEafnwgU"
      },
      "execution_count": null,
      "outputs": []
    },
    {
      "cell_type": "code",
      "source": [
        "#Sort scores in decreasing order\n",
        "pairs = sorted(pairs, key=lambda x: x['score'], reverse=True)"
      ],
      "metadata": {
        "id": "uLW-ywRQn45l"
      },
      "execution_count": null,
      "outputs": []
    },
    {
      "cell_type": "code",
      "source": [
        "for pair in pairs[0:10]:\n",
        "    i, j = pair['index']\n",
        "    print(\"{} \\t\\t {} \\t\\t Score: {:.4f}\".format(sentences[i], sentences[j], pair['score']))"
      ],
      "metadata": {
        "id": "nz4Jteaxn5AW"
      },
      "execution_count": null,
      "outputs": []
    },
    {
      "cell_type": "markdown",
      "source": [
        "Or do some semantic search:"
      ],
      "metadata": {
        "id": "PR51Jf2ao_H4"
      }
    },
    {
      "cell_type": "code",
      "source": [
        "# Query sentences:\n",
        "queries = ['A man is eating pasta.', 'Someone in a gorilla costume is playing a set of drums.', 'A cheetah chases prey on across a field.']\n",
        "\n",
        "\n",
        "# Find the closest 5 sentences of the corpus for each query sentence based on cosine similarity\n",
        "top_k = min(2, len(sentences))\n",
        "for query in queries:\n",
        "    query_embedding = embedder.encode(query, convert_to_tensor=True)\n",
        "\n",
        "    # We use cosine-similarity and torch.topk to find the highest 5 scores\n",
        "    cos_scores = util.cos_sim(query_embedding, corpus_embeddings)[0]\n",
        "    top_results = torch.topk(cos_scores, k=top_k)\n",
        "\n",
        "    print(\"\\n\\n======================\\n\\n\")\n",
        "    print(\"Query:\", query)\n",
        "    print(\"\\nTop 5 most similar sentences in corpus:\")\n",
        "\n",
        "    for score, idx in zip(top_results[0], top_results[1]):\n",
        "        print(corpus[idx], \"(Score: {:.4f})\".format(score))"
      ],
      "metadata": {
        "id": "lb61M8GAo9lB"
      },
      "execution_count": null,
      "outputs": []
    },
    {
      "cell_type": "markdown",
      "source": [
        "# Applications\n",
        "\n",
        "* Check our application for [patent classification](https://github.com/AI-Growth-Lab/PatentSBERTa)"
      ],
      "metadata": {
        "id": "V907w43gmkYe"
      }
    }
  ],
  "metadata": {
    "kernelspec": {
      "display_name": "Python 3",
      "language": "python",
      "name": "python3"
    },
    "language_info": {
      "codemirror_mode": {
        "name": "ipython",
        "version": 3
      },
      "file_extension": ".py",
      "mimetype": "text/x-python",
      "name": "python",
      "nbconvert_exporter": "python",
      "pygments_lexer": "ipython3",
      "version": "3.7.9"
    },
    "colab": {
      "provenance": [],
      "include_colab_link": true
    }
  },
  "nbformat": 4,
  "nbformat_minor": 0
}