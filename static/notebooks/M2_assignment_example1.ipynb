{
  "cells": [
    {
      "cell_type": "markdown",
      "metadata": {
        "id": "view-in-github",
        "colab_type": "text"
      },
      "source": [
        "<a href=\"https://colab.research.google.com/github/SDS-AAU/DSBA-2022/blob/master/static/notebooks/M2_assignment_example1.ipynb\" target=\"_parent\"><img src=\"https://colab.research.google.com/assets/colab-badge.svg\" alt=\"Open In Colab\"/></a>"
      ]
    },
    {
      "cell_type": "markdown",
      "metadata": {
        "id": "bMxmnh0WQexJ"
      },
      "source": [
        "# Exercise 1\n",
        "\n",
        "Data augmentation: Use NLP techniques to create categories for the different positions (these are only free-text at the moment) and create a consistent industry column. Impute (predict) the education requirements for all jobs. You can use different strategies to create larger labels for the freetext, including (but not limitd to):\n",
        "\n",
        "* Hand labeling of several jobs, and use these to predict for the remaining labels.\n",
        "* Do a topic modeling on the job description, and label them with the topic most associated.\n",
        "* Do something else… (eg. cluster job descriptions by TFIDF-weighted DTM…)"
      ]
    },
    {
      "cell_type": "code",
      "execution_count": 1,
      "metadata": {
        "id": "VUt9C2AFQexM"
      },
      "outputs": [],
      "source": [
        "import pandas as pd\n",
        "import numpy as np\n",
        "import networkx as nx\n",
        "\n",
        "import spacy \n",
        "nlp = spacy.load('en_core_web_sm') \n",
        "\n",
        "from sklearn.feature_extraction.text import TfidfVectorizer #transforms text to sparse matrix\n",
        "from sklearn.cluster import KMeans\n",
        "from collections import Counter\n",
        "\n",
        "import matplotlib.pyplot as plt"
      ]
    },
    {
      "cell_type": "markdown",
      "metadata": {
        "id": "UVPGHboBQexN"
      },
      "source": [
        "#### 1.1. Loading and cleaning the data"
      ]
    },
    {
      "cell_type": "code",
      "source": [],
      "metadata": {
        "id": "bOD2JX7dQqbG"
      },
      "execution_count": null,
      "outputs": []
    },
    {
      "cell_type": "code",
      "execution_count": null,
      "metadata": {
        "colab": {
          "base_uri": "https://localhost:8080/"
        },
        "id": "139f0520-d94f-4108-b59e-658638c005fd",
        "outputId": "06bc4285-bb54-45da-d541-1cc3867fcf6d"
      },
      "outputs": [
        {
          "output_type": "stream",
          "name": "stdout",
          "text": [
            "Looking in indexes: https://pypi.org/simple, https://us-python.pkg.dev/colab-wheels/public/simple/\n",
            "Collecting preprocessor\n",
            "  Downloading preprocessor-1.1.3.tar.gz (4.2 kB)\n",
            "Building wheels for collected packages: preprocessor\n",
            "  Building wheel for preprocessor (setup.py) ... \u001b[?25l\u001b[?25hdone\n",
            "  Created wheel for preprocessor: filename=preprocessor-1.1.3-py3-none-any.whl size=4477 sha256=13ef8528329c92486ab1f9eeb7b3ab5fb36dd2d361b69ddfeba15394ab6ea5dd\n",
            "  Stored in directory: /root/.cache/pip/wheels/0e/b7/36/aa37256db62b4bfd35a6f1b5536e9ba843f257b79dcbf3d5f1\n",
            "Successfully built preprocessor\n",
            "Installing collected packages: preprocessor\n",
            "Successfully installed preprocessor-1.1.3\n"
          ]
        }
      ],
      "source": [
        "import itertools\n",
        "import numpy as np \n",
        "import pandas as pd\n",
        "import tqdm\n",
        "!pip install preprocessor\n",
        "import preprocessor as prepro\n",
        "import spacy #spacy for quick language prepro\n",
        "nlp = spacy.load('en_core_web_sm') #instantiating English module\n",
        "from sklearn.cluster import KMeans\n",
        "import matplotlib.pyplot as plt\n",
        "from networkx.algorithms import bipartite\n",
        "import itertools\n",
        "import random\n",
        "import networkx as nx"
      ]
    },
    {
      "cell_type": "code",
      "source": [
        "!wget https://github.com/aaubs/ds-master/raw/main/data/Job_search.zip"
      ],
      "metadata": {
        "colab": {
          "base_uri": "https://localhost:8080/"
        },
        "id": "x_aBgCSVMh5T",
        "outputId": "13a126ea-2591-4457-a92d-17afed45f243"
      },
      "execution_count": null,
      "outputs": [
        {
          "output_type": "stream",
          "name": "stdout",
          "text": [
            "--2022-11-11 14:59:24--  https://github.com/aaubs/ds-master/raw/main/data/Job_search.zip\n",
            "Resolving github.com (github.com)... 140.82.112.4\n",
            "Connecting to github.com (github.com)|140.82.112.4|:443... connected.\n",
            "HTTP request sent, awaiting response... 302 Found\n",
            "Location: https://raw.githubusercontent.com/aaubs/ds-master/main/data/Job_search.zip [following]\n",
            "--2022-11-11 14:59:24--  https://raw.githubusercontent.com/aaubs/ds-master/main/data/Job_search.zip\n",
            "Resolving raw.githubusercontent.com (raw.githubusercontent.com)... 185.199.108.133, 185.199.109.133, 185.199.110.133, ...\n",
            "Connecting to raw.githubusercontent.com (raw.githubusercontent.com)|185.199.108.133|:443... connected.\n",
            "HTTP request sent, awaiting response... 200 OK\n",
            "Length: 6862703 (6.5M) [application/zip]\n",
            "Saving to: ‘Job_search.zip’\n",
            "\n",
            "Job_search.zip      100%[===================>]   6.54M  --.-KB/s    in 0.1s    \n",
            "\n",
            "2022-11-11 14:59:25 (46.2 MB/s) - ‘Job_search.zip’ saved [6862703/6862703]\n",
            "\n"
          ]
        }
      ]
    },
    {
      "cell_type": "code",
      "source": [
        "!unzip Job_search.zip"
      ],
      "metadata": {
        "colab": {
          "base_uri": "https://localhost:8080/"
        },
        "id": "9xK2nhZbNA1X",
        "outputId": "882deeab-6a31-41a2-ebf7-669a32d5a525"
      },
      "execution_count": null,
      "outputs": [
        {
          "output_type": "stream",
          "name": "stdout",
          "text": [
            "Archive:  Job_search.zip\n",
            "   creating: Job_search/\n",
            "  inflating: __MACOSX/._Job_search   \n",
            "  inflating: Job_search/user_work_interest.csv  \n",
            "  inflating: __MACOSX/Job_search/._user_work_interest.csv  \n",
            "  inflating: Job_search/.DS_Store    \n",
            "  inflating: __MACOSX/Job_search/._.DS_Store  \n",
            "  inflating: Job_search/user_job_views.csv  \n",
            "  inflating: __MACOSX/Job_search/._user_job_views.csv  \n",
            "  inflating: Job_search/user_past_experience.csv  \n",
            "  inflating: __MACOSX/Job_search/._user_past_experience.csv  \n",
            "  inflating: Job_search/jobs.csv     \n",
            "  inflating: __MACOSX/Job_search/._jobs.csv  \n"
          ]
        }
      ]
    },
    {
      "cell_type": "code",
      "execution_count": null,
      "metadata": {
        "id": "hXPLJViYQexO"
      },
      "outputs": [],
      "source": [
        "data = pd.read_csv('Job_search/jobs.csv')"
      ]
    },
    {
      "cell_type": "code",
      "execution_count": null,
      "metadata": {
        "id": "CV4BUCFjQexO"
      },
      "outputs": [],
      "source": [
        "def text_prepro(texts):\n",
        "\n",
        "  texts_clean = texts.str.lower() #lowering all words in the rows\n",
        "\n",
        "  #getting rid of the - in full/part time \n",
        "  texts_clean = texts_clean.str.replace('part-time', 'part time') \n",
        "  texts_clean = texts_clean.str.replace('full-time', 'full time')\n",
        "  texts_clean = texts_clean.str.replace('part - time', 'part time')\n",
        "  texts_clean = texts_clean.str.replace('full - time', 'full time')\n",
        "\n",
        "  texts_clean = texts_clean.str.replace('time', '') #gettind rid of the word 'time' ('full' and 'part' will be removed later as \n",
        "                                                      #they're not nouns)\n",
        "\n",
        "  texts_clean = texts_clean.str.split('@').str[0] #getting rid of the text after the '@' (usually the company's name)\n",
        " \n",
        "  clean_container = []\n",
        "\n",
        "  for text in nlp.pipe(texts_clean):\n",
        "\n",
        "    txt = [token.text for token in text \n",
        "      if token.is_alpha #getting rid of numbers\n",
        "      and token.pos_ in ['NOUN'] #taking only nouns\n",
        "      and not token.is_stop #getting rid of stop words\n",
        "      and not token.is_punct] #getting rid of puntuation signs\n",
        "      \n",
        "      \n",
        "    clean_container.append(\" \".join(txt))\n",
        "  \n",
        "  return clean_container"
      ]
    },
    {
      "cell_type": "code",
      "execution_count": null,
      "metadata": {
        "id": "U5A0YoYPQexP"
      },
      "outputs": [],
      "source": [
        "data['Title_clean'] = text_prepro(data['Title'])"
      ]
    },
    {
      "cell_type": "code",
      "execution_count": null,
      "metadata": {
        "id": "9lW7kse0QexP",
        "outputId": "517c5975-de70-4521-ef42-aea7cceac92c"
      },
      "outputs": [
        {
          "data": {
            "text/plain": [
              "False    12018\n",
              "True       352\n",
              "Name: Title_clean, dtype: int64"
            ]
          },
          "execution_count": 50,
          "metadata": {},
          "output_type": "execute_result"
        }
      ],
      "source": [
        "(data['Title_clean'] == \"\").value_counts() #with this preprocessing we're sacrifying 352 out of 12370 jobs "
      ]
    },
    {
      "cell_type": "code",
      "execution_count": null,
      "metadata": {
        "id": "bqXlqQKJQexQ"
      },
      "outputs": [],
      "source": [
        "#getting rid of empty rows\n",
        "data['Title_clean'].replace('', np.nan, inplace=True)\n",
        "data.dropna(subset=['Title_clean'], inplace=True)"
      ]
    },
    {
      "cell_type": "code",
      "execution_count": null,
      "metadata": {
        "id": "pd4ldJM7QexQ"
      },
      "outputs": [],
      "source": [
        "data_df = pd.DataFrame({'text':data['Title_clean']})"
      ]
    },
    {
      "cell_type": "code",
      "execution_count": null,
      "metadata": {
        "id": "WQihiUDfQexR",
        "outputId": "312ebe4d-494e-4f9c-b7ec-01e6e3fb527d"
      },
      "outputs": [
        {
          "data": {
            "text/html": [
              "<div>\n",
              "<style scoped>\n",
              "    .dataframe tbody tr th:only-of-type {\n",
              "        vertical-align: middle;\n",
              "    }\n",
              "\n",
              "    .dataframe tbody tr th {\n",
              "        vertical-align: top;\n",
              "    }\n",
              "\n",
              "    .dataframe thead th {\n",
              "        text-align: right;\n",
              "    }\n",
              "</style>\n",
              "<table border=\"1\" class=\"dataframe\">\n",
              "  <thead>\n",
              "    <tr style=\"text-align: right;\">\n",
              "      <th></th>\n",
              "      <th>text</th>\n",
              "    </tr>\n",
              "  </thead>\n",
              "  <tbody>\n",
              "    <tr>\n",
              "      <th>0</th>\n",
              "      <td>cashiers valets</td>\n",
              "    </tr>\n",
              "    <tr>\n",
              "      <th>1</th>\n",
              "      <td>fragrance cashier garden city ny field</td>\n",
              "    </tr>\n",
              "    <tr>\n",
              "      <th>2</th>\n",
              "      <td>showroom sales cashier</td>\n",
              "    </tr>\n",
              "    <tr>\n",
              "      <th>3</th>\n",
              "      <td>event specialist</td>\n",
              "    </tr>\n",
              "    <tr>\n",
              "      <th>4</th>\n",
              "      <td>bonefish kitchen staff</td>\n",
              "    </tr>\n",
              "    <tr>\n",
              "      <th>...</th>\n",
              "      <td>...</td>\n",
              "    </tr>\n",
              "    <tr>\n",
              "      <th>12365</th>\n",
              "      <td>server</td>\n",
              "    </tr>\n",
              "    <tr>\n",
              "      <th>12366</th>\n",
              "      <td>server</td>\n",
              "    </tr>\n",
              "    <tr>\n",
              "      <th>12367</th>\n",
              "      <td>server</td>\n",
              "    </tr>\n",
              "    <tr>\n",
              "      <th>12368</th>\n",
              "      <td>server</td>\n",
              "    </tr>\n",
              "    <tr>\n",
              "      <th>12369</th>\n",
              "      <td>server</td>\n",
              "    </tr>\n",
              "  </tbody>\n",
              "</table>\n",
              "<p>12018 rows × 1 columns</p>\n",
              "</div>"
            ],
            "text/plain": [
              "                                         text\n",
              "0                             cashiers valets\n",
              "1      fragrance cashier garden city ny field\n",
              "2                      showroom sales cashier\n",
              "3                            event specialist\n",
              "4                      bonefish kitchen staff\n",
              "...                                       ...\n",
              "12365                                  server\n",
              "12366                                  server\n",
              "12367                                  server\n",
              "12368                                  server\n",
              "12369                                  server\n",
              "\n",
              "[12018 rows x 1 columns]"
            ]
          },
          "execution_count": 53,
          "metadata": {},
          "output_type": "execute_result"
        }
      ],
      "source": [
        "data_df"
      ]
    },
    {
      "cell_type": "markdown",
      "metadata": {
        "id": "FuivU-Z4QexR"
      },
      "source": [
        "#### 1.2. Clustering"
      ]
    },
    {
      "cell_type": "markdown",
      "metadata": {
        "id": "CvSkM0n3QexS"
      },
      "source": [
        "##### 1.2.1. TfidVectorizer"
      ]
    },
    {
      "cell_type": "code",
      "execution_count": null,
      "metadata": {
        "id": "1HZwRHODQexS"
      },
      "outputs": [],
      "source": [
        "corpus = data_df['text'].values"
      ]
    },
    {
      "cell_type": "code",
      "execution_count": null,
      "metadata": {
        "id": "uLOQDnCjQexS"
      },
      "outputs": [],
      "source": [
        "vectorizer = TfidfVectorizer(\n",
        "    max_df=0.5,\n",
        "    min_df=5,\n",
        "    stop_words=\"english\",\n",
        ")"
      ]
    },
    {
      "cell_type": "code",
      "execution_count": null,
      "metadata": {
        "id": "ZhUdrB2QQexS"
      },
      "outputs": [],
      "source": [
        "vector = vectorizer.fit_transform(corpus)"
      ]
    },
    {
      "cell_type": "markdown",
      "metadata": {
        "id": "DHnN5jEfQexT"
      },
      "source": [
        "##### 1.2.2. Finding out the k for KMeans"
      ]
    },
    {
      "cell_type": "code",
      "execution_count": null,
      "metadata": {
        "id": "nK9TuYz5QexT"
      },
      "outputs": [],
      "source": [
        "Sum_of_squared_distances = []\n",
        "K = range(1,10)\n",
        "for k in K:\n",
        "    km = KMeans(n_clusters=k)\n",
        "    km = km.fit(vector)\n",
        "    Sum_of_squared_distances.append(km.inertia_)"
      ]
    },
    {
      "cell_type": "code",
      "execution_count": null,
      "metadata": {
        "id": "Wl0GkRDTQexT",
        "outputId": "e39d7111-8ca7-41b2-efda-84fa149e9643"
      },
      "outputs": [
        {
          "data": {
            "image/png": "[encoded data removed]",
            "text/plain": [
              "<Figure size 640x480 with 1 Axes>"
            ]
          },
          "metadata": {},
          "output_type": "display_data"
        }
      ],
      "source": [
        "plt.plot(K, Sum_of_squared_distances, 'bx-')\n",
        "plt.xlabel('k')\n",
        "plt.ylabel('Sum_of_squared_distances')\n",
        "plt.title('Elbow Method For Optimal k')\n",
        "plt.savefig('kmeans2.png') #idk why it doesn't show the plot with plt.show - I'm here saving the image to then show it in markdown"
      ]
    },
    {
      "cell_type": "code",
      "execution_count": null,
      "metadata": {
        "id": "5vCzShKwQexT"
      },
      "outputs": [],
      "source": [
        "true_k = 6"
      ]
    },
    {
      "cell_type": "markdown",
      "metadata": {
        "id": "z5mvNEr8QexU"
      },
      "source": [
        "##### 1.2.3. KMeans"
      ]
    },
    {
      "cell_type": "code",
      "execution_count": null,
      "metadata": {
        "id": "egTllNK2QexU"
      },
      "outputs": [],
      "source": [
        "clusterer = KMeans(n_clusters=true_k)"
      ]
    },
    {
      "cell_type": "code",
      "execution_count": null,
      "metadata": {
        "id": "yC-A_QA0QexU",
        "outputId": "cf7c1997-9304-46df-eb3a-c052e38074b4"
      },
      "outputs": [
        {
          "data": {
            "text/html": [
              "<style>#sk-container-id-2 {color: black;background-color: white;}#sk-container-id-2 pre{padding: 0;}#sk-container-id-2 div.sk-toggleable {background-color: white;}#sk-container-id-2 label.sk-toggleable__label {cursor: pointer;display: block;width: 100%;margin-bottom: 0;padding: 0.3em;box-sizing: border-box;text-align: center;}#sk-container-id-2 label.sk-toggleable__label-arrow:before {content: \"▸\";float: left;margin-right: 0.25em;color: #696969;}#sk-container-id-2 label.sk-toggleable__label-arrow:hover:before {color: black;}#sk-container-id-2 div.sk-estimator:hover label.sk-toggleable__label-arrow:before {color: black;}#sk-container-id-2 div.sk-toggleable__content {max-height: 0;max-width: 0;overflow: hidden;text-align: left;background-color: #f0f8ff;}#sk-container-id-2 div.sk-toggleable__content pre {margin: 0.2em;color: black;border-radius: 0.25em;background-color: #f0f8ff;}#sk-container-id-2 input.sk-toggleable__control:checked~div.sk-toggleable__content {max-height: 200px;max-width: 100%;overflow: auto;}#sk-container-id-2 input.sk-toggleable__control:checked~label.sk-toggleable__label-arrow:before {content: \"▾\";}#sk-container-id-2 div.sk-estimator input.sk-toggleable__control:checked~label.sk-toggleable__label {background-color: #d4ebff;}#sk-container-id-2 div.sk-label input.sk-toggleable__control:checked~label.sk-toggleable__label {background-color: #d4ebff;}#sk-container-id-2 input.sk-hidden--visually {border: 0;clip: rect(1px 1px 1px 1px);clip: rect(1px, 1px, 1px, 1px);height: 1px;margin: -1px;overflow: hidden;padding: 0;position: absolute;width: 1px;}#sk-container-id-2 div.sk-estimator {font-family: monospace;background-color: #f0f8ff;border: 1px dotted black;border-radius: 0.25em;box-sizing: border-box;margin-bottom: 0.5em;}#sk-container-id-2 div.sk-estimator:hover {background-color: #d4ebff;}#sk-container-id-2 div.sk-parallel-item::after {content: \"\";width: 100%;border-bottom: 1px solid gray;flex-grow: 1;}#sk-container-id-2 div.sk-label:hover label.sk-toggleable__label {background-color: #d4ebff;}#sk-container-id-2 div.sk-serial::before {content: \"\";position: absolute;border-left: 1px solid gray;box-sizing: border-box;top: 0;bottom: 0;left: 50%;z-index: 0;}#sk-container-id-2 div.sk-serial {display: flex;flex-direction: column;align-items: center;background-color: white;padding-right: 0.2em;padding-left: 0.2em;position: relative;}#sk-container-id-2 div.sk-item {position: relative;z-index: 1;}#sk-container-id-2 div.sk-parallel {display: flex;align-items: stretch;justify-content: center;background-color: white;position: relative;}#sk-container-id-2 div.sk-item::before, #sk-container-id-2 div.sk-parallel-item::before {content: \"\";position: absolute;border-left: 1px solid gray;box-sizing: border-box;top: 0;bottom: 0;left: 50%;z-index: -1;}#sk-container-id-2 div.sk-parallel-item {display: flex;flex-direction: column;z-index: 1;position: relative;background-color: white;}#sk-container-id-2 div.sk-parallel-item:first-child::after {align-self: flex-end;width: 50%;}#sk-container-id-2 div.sk-parallel-item:last-child::after {align-self: flex-start;width: 50%;}#sk-container-id-2 div.sk-parallel-item:only-child::after {width: 0;}#sk-container-id-2 div.sk-dashed-wrapped {border: 1px dashed gray;margin: 0 0.4em 0.5em 0.4em;box-sizing: border-box;padding-bottom: 0.4em;background-color: white;}#sk-container-id-2 div.sk-label label {font-family: monospace;font-weight: bold;display: inline-block;line-height: 1.2em;}#sk-container-id-2 div.sk-label-container {text-align: center;}#sk-container-id-2 div.sk-container {/* jupyter's `normalize.less` sets `[hidden] { display: none; }` but bootstrap.min.css set `[hidden] { display: none !important; }` so we also need the `!important` here to be able to override the default hidden behavior on the sphinx rendered scikit-learn.org. See: https://github.com/scikit-learn/scikit-learn/issues/21755 */display: inline-block !important;position: relative;}#sk-container-id-2 div.sk-text-repr-fallback {display: none;}</style><div id=\"sk-container-id-2\" class=\"sk-top-container\"><div class=\"sk-text-repr-fallback\"><pre>KMeans(n_clusters=6)</pre><b>In a Jupyter environment, please rerun this cell to show the HTML representation or trust the notebook. <br />On GitHub, the HTML representation is unable to render, please try loading this page with nbviewer.org.</b></div><div class=\"sk-container\" hidden><div class=\"sk-item\"><div class=\"sk-estimator sk-toggleable\"><input class=\"sk-toggleable__control sk-hidden--visually\" id=\"sk-estimator-id-2\" type=\"checkbox\" checked><label for=\"sk-estimator-id-2\" class=\"sk-toggleable__label sk-toggleable__label-arrow\">KMeans</label><div class=\"sk-toggleable__content\"><pre>KMeans(n_clusters=6)</pre></div></div></div></div></div>"
            ],
            "text/plain": [
              "KMeans(n_clusters=6)"
            ]
          },
          "execution_count": 61,
          "metadata": {},
          "output_type": "execute_result"
        }
      ],
      "source": [
        "clusterer.fit(vector)"
      ]
    },
    {
      "cell_type": "code",
      "execution_count": null,
      "metadata": {
        "id": "TregGzhUQexU"
      },
      "outputs": [],
      "source": [
        "data_df['cluster'] = clusterer.labels_"
      ]
    },
    {
      "cell_type": "code",
      "execution_count": null,
      "metadata": {
        "id": "Zp_6umJ9QexU",
        "outputId": "c13d97bb-bb38-44df-b88d-594c787c6c2a"
      },
      "outputs": [
        {
          "data": {
            "text/html": [
              "<div>\n",
              "<style scoped>\n",
              "    .dataframe tbody tr th:only-of-type {\n",
              "        vertical-align: middle;\n",
              "    }\n",
              "\n",
              "    .dataframe tbody tr th {\n",
              "        vertical-align: top;\n",
              "    }\n",
              "\n",
              "    .dataframe thead th {\n",
              "        text-align: right;\n",
              "    }\n",
              "</style>\n",
              "<table border=\"1\" class=\"dataframe\">\n",
              "  <thead>\n",
              "    <tr style=\"text-align: right;\">\n",
              "      <th></th>\n",
              "      <th>text</th>\n",
              "      <th>cluster</th>\n",
              "    </tr>\n",
              "  </thead>\n",
              "  <tbody>\n",
              "    <tr>\n",
              "      <th>0</th>\n",
              "      <td>cashiers valets</td>\n",
              "      <td>4</td>\n",
              "    </tr>\n",
              "    <tr>\n",
              "      <th>1</th>\n",
              "      <td>fragrance cashier garden city ny field</td>\n",
              "      <td>4</td>\n",
              "    </tr>\n",
              "    <tr>\n",
              "      <th>2</th>\n",
              "      <td>showroom sales cashier</td>\n",
              "      <td>2</td>\n",
              "    </tr>\n",
              "    <tr>\n",
              "      <th>3</th>\n",
              "      <td>event specialist</td>\n",
              "      <td>4</td>\n",
              "    </tr>\n",
              "    <tr>\n",
              "      <th>4</th>\n",
              "      <td>bonefish kitchen staff</td>\n",
              "      <td>4</td>\n",
              "    </tr>\n",
              "    <tr>\n",
              "      <th>...</th>\n",
              "      <td>...</td>\n",
              "      <td>...</td>\n",
              "    </tr>\n",
              "    <tr>\n",
              "      <th>12365</th>\n",
              "      <td>server</td>\n",
              "      <td>4</td>\n",
              "    </tr>\n",
              "    <tr>\n",
              "      <th>12366</th>\n",
              "      <td>server</td>\n",
              "      <td>4</td>\n",
              "    </tr>\n",
              "    <tr>\n",
              "      <th>12367</th>\n",
              "      <td>server</td>\n",
              "      <td>4</td>\n",
              "    </tr>\n",
              "    <tr>\n",
              "      <th>12368</th>\n",
              "      <td>server</td>\n",
              "      <td>4</td>\n",
              "    </tr>\n",
              "    <tr>\n",
              "      <th>12369</th>\n",
              "      <td>server</td>\n",
              "      <td>4</td>\n",
              "    </tr>\n",
              "  </tbody>\n",
              "</table>\n",
              "<p>12018 rows × 2 columns</p>\n",
              "</div>"
            ],
            "text/plain": [
              "                                         text  cluster\n",
              "0                             cashiers valets        4\n",
              "1      fragrance cashier garden city ny field        4\n",
              "2                      showroom sales cashier        2\n",
              "3                            event specialist        4\n",
              "4                      bonefish kitchen staff        4\n",
              "...                                       ...      ...\n",
              "12365                                  server        4\n",
              "12366                                  server        4\n",
              "12367                                  server        4\n",
              "12368                                  server        4\n",
              "12369                                  server        4\n",
              "\n",
              "[12018 rows x 2 columns]"
            ]
          },
          "execution_count": 63,
          "metadata": {},
          "output_type": "execute_result"
        }
      ],
      "source": [
        "data_df"
      ]
    },
    {
      "cell_type": "markdown",
      "metadata": {
        "id": "n1OtiO7nQexU"
      },
      "source": [
        "#### 1.3. Displaying the most frequent words for each cluster"
      ]
    },
    {
      "cell_type": "code",
      "execution_count": null,
      "metadata": {
        "id": "9QCYGWLfQexV",
        "outputId": "0496f077-2196-4e8e-fb01-811cd8d58577"
      },
      "outputs": [
        {
          "name": "stdout",
          "output_type": "stream",
          "text": [
            "[('driver', 283), ('delivery', 229), ('job', 105), ('drivers', 87), ('team', 85), ('bikers', 84), ('inventory', 28), ('associate', 28), ('bus', 15), ('school', 14)]\n"
          ]
        }
      ],
      "source": [
        "arrayOfWordInCluster = []\n",
        "for line in data_df.loc[data_df['cluster']==0]['text']:\n",
        "    for word in line.split():\n",
        "        arrayOfWordInCluster.append(word)\n",
        "\n",
        "counts = Counter(arrayOfWordInCluster)\n",
        "print(counts.most_common(10))"
      ]
    },
    {
      "cell_type": "code",
      "execution_count": null,
      "metadata": {
        "id": "fghk8wPLQexV",
        "outputId": "45c242e8-829c-4159-ab8a-7a958ae030c9"
      },
      "outputs": [
        {
          "name": "stdout",
          "output_type": "stream",
          "text": [
            "[('assistant', 982), ('manager', 130), ('office', 61), ('resources', 24), ('hr', 13), ('support', 12), ('care', 11), ('teacher', 11), ('project', 11), ('nursing', 9)]\n"
          ]
        }
      ],
      "source": [
        "arrayOfWordInCluster = []\n",
        "for line in data_df.loc[data_df['cluster']==1]['text']:\n",
        "    for word in line.split():\n",
        "        arrayOfWordInCluster.append(word)\n",
        "\n",
        "counts = Counter(arrayOfWordInCluster)\n",
        "print(counts.most_common(10))"
      ]
    },
    {
      "cell_type": "code",
      "execution_count": null,
      "metadata": {
        "id": "aL4AcGOcQexV",
        "outputId": "a1b1cfed-44ef-4e29-d295-d837460c49a2"
      },
      "outputs": [
        {
          "name": "stdout",
          "output_type": "stream",
          "text": [
            "[('sales', 1309), ('associate', 234), ('toys', 203), ('team', 203), ('member', 203), ('consultant', 188), ('representative', 102), ('babies', 99), ('center', 51), ('event', 49)]\n"
          ]
        }
      ],
      "source": [
        "arrayOfWordInCluster = []\n",
        "for line in data_df.loc[data_df['cluster']==2]['text']:\n",
        "    for word in line.split():\n",
        "        arrayOfWordInCluster.append(word)\n",
        "\n",
        "counts = Counter(arrayOfWordInCluster)\n",
        "print(counts.most_common(10))"
      ]
    },
    {
      "cell_type": "code",
      "execution_count": null,
      "metadata": {
        "id": "BzEO5EbUQexV",
        "outputId": "858d4c34-8e6c-4dc6-ef00-d4f7b615febe"
      },
      "outputs": [
        {
          "name": "stdout",
          "output_type": "stream",
          "text": [
            "[('receptionist', 370), ('officer', 75), ('security', 60), ('desk', 20), ('assistant', 9), ('concierge', 5), ('healthcare', 4), ('cape', 3), ('office', 3), ('secretary', 3)]\n"
          ]
        }
      ],
      "source": [
        "arrayOfWordInCluster = []\n",
        "for line in data_df.loc[data_df['cluster']==3]['text']:\n",
        "    for word in line.split():\n",
        "        arrayOfWordInCluster.append(word)\n",
        "\n",
        "counts = Counter(arrayOfWordInCluster)\n",
        "print(counts.most_common(10))"
      ]
    },
    {
      "cell_type": "code",
      "execution_count": null,
      "metadata": {
        "id": "7_cvDr_JQexV",
        "outputId": "0e5178b5-2bd9-4fac-ea02-dcca4d0c60c1"
      },
      "outputs": [
        {
          "name": "stdout",
          "output_type": "stream",
          "text": [
            "[('clerk', 504), ('security', 418), ('entry', 360), ('specialist', 327), ('officer', 317), ('cashier', 310), ('associate', 290), ('stock', 286), ('assistant', 283), ('toys', 256)]\n"
          ]
        }
      ],
      "source": [
        "arrayOfWordInCluster = []\n",
        "for line in data_df.loc[data_df['cluster']==4]['text']:\n",
        "    for word in line.split():\n",
        "        arrayOfWordInCluster.append(word)\n",
        "\n",
        "counts = Counter(arrayOfWordInCluster)\n",
        "print(counts.most_common(10))"
      ]
    },
    {
      "cell_type": "code",
      "execution_count": null,
      "metadata": {
        "id": "LL39vHzCQexW",
        "outputId": "9cef7553-a3fa-4d15-e6b6-432767b93ebf"
      },
      "outputs": [
        {
          "name": "stdout",
          "output_type": "stream",
          "text": [
            "[('service', 858), ('customer', 839), ('representative', 375), ('sales', 187), ('associate', 134), ('entry', 93), ('level', 90), ('event', 84), ('store', 83), ('home', 77)]\n"
          ]
        }
      ],
      "source": [
        "arrayOfWordInCluster = []\n",
        "for line in data_df.loc[data_df['cluster']==5]['text']:\n",
        "    for word in line.split():\n",
        "        arrayOfWordInCluster.append(word)\n",
        "\n",
        "from collections import Counter\n",
        "counts = Counter(arrayOfWordInCluster)\n",
        "print(counts.most_common(10))"
      ]
    },
    {
      "cell_type": "markdown",
      "metadata": {
        "id": "e78KzHLqQexW"
      },
      "source": [
        "# Exercise 2\n",
        "\n",
        "Use a 2-mode network approach based on the “traffic-data” to create job recommendation. Example:\n",
        "* create a network user_id - job_id\n",
        "* project to user_id\n",
        "* recommend to user_i what user_y also looked at if they are close to each other e.g. 1 jump away (and job is in the same city, state, fits user_i past experience, fits user_j interests…)"
      ]
    },
    {
      "cell_type": "markdown",
      "metadata": {
        "id": "rk-e9Yr4QexW"
      },
      "source": [
        "#### 2.1. Creating the network"
      ]
    },
    {
      "cell_type": "code",
      "execution_count": null,
      "metadata": {
        "id": "qZBfq1buQexW"
      },
      "outputs": [],
      "source": [
        "df2 = data[['Applicant.ID', 'Job.ID']]"
      ]
    },
    {
      "cell_type": "code",
      "execution_count": null,
      "metadata": {
        "id": "aV4jAUtvQexW",
        "outputId": "ea610b2e-45f9-41e9-d35b-1efd9a5742b1"
      },
      "outputs": [
        {
          "data": {
            "text/html": [
              "<div>\n",
              "<style scoped>\n",
              "    .dataframe tbody tr th:only-of-type {\n",
              "        vertical-align: middle;\n",
              "    }\n",
              "\n",
              "    .dataframe tbody tr th {\n",
              "        vertical-align: top;\n",
              "    }\n",
              "\n",
              "    .dataframe thead th {\n",
              "        text-align: right;\n",
              "    }\n",
              "</style>\n",
              "<table border=\"1\" class=\"dataframe\">\n",
              "  <thead>\n",
              "    <tr style=\"text-align: right;\">\n",
              "      <th></th>\n",
              "      <th>Applicant.ID</th>\n",
              "      <th>Job.ID</th>\n",
              "    </tr>\n",
              "  </thead>\n",
              "  <tbody>\n",
              "    <tr>\n",
              "      <th>0</th>\n",
              "      <td>10000</td>\n",
              "      <td>73666</td>\n",
              "    </tr>\n",
              "    <tr>\n",
              "      <th>1</th>\n",
              "      <td>10000</td>\n",
              "      <td>96655</td>\n",
              "    </tr>\n",
              "    <tr>\n",
              "      <th>2</th>\n",
              "      <td>10001</td>\n",
              "      <td>84141</td>\n",
              "    </tr>\n",
              "    <tr>\n",
              "      <th>3</th>\n",
              "      <td>10002</td>\n",
              "      <td>77989</td>\n",
              "    </tr>\n",
              "    <tr>\n",
              "      <th>4</th>\n",
              "      <td>10002</td>\n",
              "      <td>69568</td>\n",
              "    </tr>\n",
              "    <tr>\n",
              "      <th>...</th>\n",
              "      <td>...</td>\n",
              "      <td>...</td>\n",
              "    </tr>\n",
              "    <tr>\n",
              "      <th>12365</th>\n",
              "      <td>9997</td>\n",
              "      <td>166</td>\n",
              "    </tr>\n",
              "    <tr>\n",
              "      <th>12366</th>\n",
              "      <td>9997</td>\n",
              "      <td>531</td>\n",
              "    </tr>\n",
              "    <tr>\n",
              "      <th>12367</th>\n",
              "      <td>9997</td>\n",
              "      <td>33</td>\n",
              "    </tr>\n",
              "    <tr>\n",
              "      <th>12368</th>\n",
              "      <td>9997</td>\n",
              "      <td>517</td>\n",
              "    </tr>\n",
              "    <tr>\n",
              "      <th>12369</th>\n",
              "      <td>9997</td>\n",
              "      <td>517</td>\n",
              "    </tr>\n",
              "  </tbody>\n",
              "</table>\n",
              "<p>12018 rows × 2 columns</p>\n",
              "</div>"
            ],
            "text/plain": [
              "       Applicant.ID  Job.ID\n",
              "0             10000   73666\n",
              "1             10000   96655\n",
              "2             10001   84141\n",
              "3             10002   77989\n",
              "4             10002   69568\n",
              "...             ...     ...\n",
              "12365          9997     166\n",
              "12366          9997     531\n",
              "12367          9997      33\n",
              "12368          9997     517\n",
              "12369          9997     517\n",
              "\n",
              "[12018 rows x 2 columns]"
            ]
          },
          "execution_count": 71,
          "metadata": {},
          "output_type": "execute_result"
        }
      ],
      "source": [
        "df2"
      ]
    },
    {
      "cell_type": "code",
      "execution_count": null,
      "metadata": {
        "id": "Eh3zJ-RyQexX"
      },
      "outputs": [],
      "source": [
        "# creating a link between people that has applied to the same job\n",
        "network = pd.merge(df2, df2, on=df2['Job.ID'])"
      ]
    },
    {
      "cell_type": "code",
      "execution_count": null,
      "metadata": {
        "id": "iQeYRIqxQexX"
      },
      "outputs": [],
      "source": [
        "network = network[['Applicant.ID_x', 'Job.ID_x', 'Applicant.ID_y']]"
      ]
    },
    {
      "cell_type": "code",
      "execution_count": null,
      "metadata": {
        "id": "bvAMn78dQexX"
      },
      "outputs": [],
      "source": [
        "network = network[network['Applicant.ID_x'] != network['Applicant.ID_y']] #deleting connection between one and itself"
      ]
    },
    {
      "cell_type": "code",
      "execution_count": null,
      "metadata": {
        "id": "apXm5Q7FQexX",
        "outputId": "820591c9-deb7-48ee-a3a3-44a756248210"
      },
      "outputs": [
        {
          "data": {
            "text/html": [
              "<div>\n",
              "<style scoped>\n",
              "    .dataframe tbody tr th:only-of-type {\n",
              "        vertical-align: middle;\n",
              "    }\n",
              "\n",
              "    .dataframe tbody tr th {\n",
              "        vertical-align: top;\n",
              "    }\n",
              "\n",
              "    .dataframe thead th {\n",
              "        text-align: right;\n",
              "    }\n",
              "</style>\n",
              "<table border=\"1\" class=\"dataframe\">\n",
              "  <thead>\n",
              "    <tr style=\"text-align: right;\">\n",
              "      <th></th>\n",
              "      <th>Applicant.ID_x</th>\n",
              "      <th>Job.ID_x</th>\n",
              "      <th>Applicant.ID_y</th>\n",
              "    </tr>\n",
              "  </thead>\n",
              "  <tbody>\n",
              "    <tr>\n",
              "      <th>1</th>\n",
              "      <td>10000</td>\n",
              "      <td>73666</td>\n",
              "      <td>11268</td>\n",
              "    </tr>\n",
              "    <tr>\n",
              "      <th>2</th>\n",
              "      <td>10000</td>\n",
              "      <td>73666</td>\n",
              "      <td>11478</td>\n",
              "    </tr>\n",
              "    <tr>\n",
              "      <th>3</th>\n",
              "      <td>11268</td>\n",
              "      <td>73666</td>\n",
              "      <td>10000</td>\n",
              "    </tr>\n",
              "    <tr>\n",
              "      <th>5</th>\n",
              "      <td>11268</td>\n",
              "      <td>73666</td>\n",
              "      <td>11478</td>\n",
              "    </tr>\n",
              "    <tr>\n",
              "      <th>6</th>\n",
              "      <td>11478</td>\n",
              "      <td>73666</td>\n",
              "      <td>10000</td>\n",
              "    </tr>\n",
              "    <tr>\n",
              "      <th>...</th>\n",
              "      <td>...</td>\n",
              "      <td>...</td>\n",
              "      <td>...</td>\n",
              "    </tr>\n",
              "    <tr>\n",
              "      <th>72200</th>\n",
              "      <td>9995</td>\n",
              "      <td>196</td>\n",
              "      <td>9997</td>\n",
              "    </tr>\n",
              "    <tr>\n",
              "      <th>72201</th>\n",
              "      <td>9997</td>\n",
              "      <td>196</td>\n",
              "      <td>9954</td>\n",
              "    </tr>\n",
              "    <tr>\n",
              "      <th>72202</th>\n",
              "      <td>9997</td>\n",
              "      <td>196</td>\n",
              "      <td>9995</td>\n",
              "    </tr>\n",
              "    <tr>\n",
              "      <th>72262</th>\n",
              "      <td>9995</td>\n",
              "      <td>531</td>\n",
              "      <td>9997</td>\n",
              "    </tr>\n",
              "    <tr>\n",
              "      <th>72263</th>\n",
              "      <td>9997</td>\n",
              "      <td>531</td>\n",
              "      <td>9995</td>\n",
              "    </tr>\n",
              "  </tbody>\n",
              "</table>\n",
              "<p>49340 rows × 3 columns</p>\n",
              "</div>"
            ],
            "text/plain": [
              "       Applicant.ID_x  Job.ID_x  Applicant.ID_y\n",
              "1               10000     73666           11268\n",
              "2               10000     73666           11478\n",
              "3               11268     73666           10000\n",
              "5               11268     73666           11478\n",
              "6               11478     73666           10000\n",
              "...               ...       ...             ...\n",
              "72200            9995       196            9997\n",
              "72201            9997       196            9954\n",
              "72202            9997       196            9995\n",
              "72262            9995       531            9997\n",
              "72263            9997       531            9995\n",
              "\n",
              "[49340 rows x 3 columns]"
            ]
          },
          "execution_count": 75,
          "metadata": {},
          "output_type": "execute_result"
        }
      ],
      "source": [
        "# here, we can see people that has applied for the same job with the Job.ID as edge\n",
        "network"
      ]
    },
    {
      "cell_type": "code",
      "execution_count": null,
      "metadata": {
        "id": "g-dNZdN7QexX"
      },
      "outputs": [],
      "source": [
        "G = nx.from_pandas_edgelist(network, source = 'Applicant.ID_x', target = 'Applicant.ID_y')"
      ]
    },
    {
      "cell_type": "markdown",
      "metadata": {
        "id": "20tTKv6EQexX"
      },
      "source": [
        "#### 2.2. Creating the dictionary with the node's attributes \n",
        "\n",
        "For the attributes, we will work with the city and the states of the applicant jobs applications. The recommendation system will recommend a person jobs that are in the same city as well as jobs that are in the same states"
      ]
    },
    {
      "cell_type": "code",
      "execution_count": null,
      "metadata": {
        "id": "xLbZ4prTQexY"
      },
      "outputs": [],
      "source": [
        "city_df= data[['Applicant.ID', 'City', 'State.Code']]"
      ]
    },
    {
      "cell_type": "code",
      "execution_count": null,
      "metadata": {
        "id": "8ATNZoFNQexY",
        "outputId": "3e42390b-d8c1-4214-83c4-cc45ca4ed270"
      },
      "outputs": [
        {
          "data": {
            "text/html": [
              "<div>\n",
              "<style scoped>\n",
              "    .dataframe tbody tr th:only-of-type {\n",
              "        vertical-align: middle;\n",
              "    }\n",
              "\n",
              "    .dataframe tbody tr th {\n",
              "        vertical-align: top;\n",
              "    }\n",
              "\n",
              "    .dataframe thead th {\n",
              "        text-align: right;\n",
              "    }\n",
              "</style>\n",
              "<table border=\"1\" class=\"dataframe\">\n",
              "  <thead>\n",
              "    <tr style=\"text-align: right;\">\n",
              "      <th></th>\n",
              "      <th>Applicant.ID</th>\n",
              "      <th>City</th>\n",
              "      <th>State.Code</th>\n",
              "    </tr>\n",
              "  </thead>\n",
              "  <tbody>\n",
              "    <tr>\n",
              "      <th>0</th>\n",
              "      <td>10000</td>\n",
              "      <td>Newark</td>\n",
              "      <td>NJ</td>\n",
              "    </tr>\n",
              "    <tr>\n",
              "      <th>1</th>\n",
              "      <td>10000</td>\n",
              "      <td>Garden City</td>\n",
              "      <td>NY</td>\n",
              "    </tr>\n",
              "    <tr>\n",
              "      <th>2</th>\n",
              "      <td>10001</td>\n",
              "      <td>Bellingham</td>\n",
              "      <td>WA</td>\n",
              "    </tr>\n",
              "    <tr>\n",
              "      <th>3</th>\n",
              "      <td>10002</td>\n",
              "      <td>Simpsonville</td>\n",
              "      <td>SC</td>\n",
              "    </tr>\n",
              "    <tr>\n",
              "      <th>4</th>\n",
              "      <td>10002</td>\n",
              "      <td>Greenville</td>\n",
              "      <td>SC</td>\n",
              "    </tr>\n",
              "    <tr>\n",
              "      <th>...</th>\n",
              "      <td>...</td>\n",
              "      <td>...</td>\n",
              "      <td>...</td>\n",
              "    </tr>\n",
              "    <tr>\n",
              "      <th>12365</th>\n",
              "      <td>9997</td>\n",
              "      <td>San Francisco</td>\n",
              "      <td>CA</td>\n",
              "    </tr>\n",
              "    <tr>\n",
              "      <th>12366</th>\n",
              "      <td>9997</td>\n",
              "      <td>San Francisco</td>\n",
              "      <td>CA</td>\n",
              "    </tr>\n",
              "    <tr>\n",
              "      <th>12367</th>\n",
              "      <td>9997</td>\n",
              "      <td>Oakland</td>\n",
              "      <td>CA</td>\n",
              "    </tr>\n",
              "    <tr>\n",
              "      <th>12368</th>\n",
              "      <td>9997</td>\n",
              "      <td>San Francisco</td>\n",
              "      <td>CA</td>\n",
              "    </tr>\n",
              "    <tr>\n",
              "      <th>12369</th>\n",
              "      <td>9997</td>\n",
              "      <td>San Francisco</td>\n",
              "      <td>CA</td>\n",
              "    </tr>\n",
              "  </tbody>\n",
              "</table>\n",
              "<p>12018 rows × 3 columns</p>\n",
              "</div>"
            ],
            "text/plain": [
              "       Applicant.ID           City State.Code\n",
              "0             10000         Newark         NJ\n",
              "1             10000    Garden City         NY\n",
              "2             10001     Bellingham         WA\n",
              "3             10002   Simpsonville         SC\n",
              "4             10002     Greenville         SC\n",
              "...             ...            ...        ...\n",
              "12365          9997  San Francisco         CA\n",
              "12366          9997  San Francisco         CA\n",
              "12367          9997        Oakland         CA\n",
              "12368          9997  San Francisco         CA\n",
              "12369          9997  San Francisco         CA\n",
              "\n",
              "[12018 rows x 3 columns]"
            ]
          },
          "execution_count": 78,
          "metadata": {},
          "output_type": "execute_result"
        }
      ],
      "source": [
        "city_df"
      ]
    },
    {
      "cell_type": "code",
      "execution_count": null,
      "metadata": {
        "id": "HtmNYqtpQexY"
      },
      "outputs": [],
      "source": [
        "# grouping by applicant ids\n",
        "df2 = city_df.groupby('Applicant.ID', as_index=False).agg(\n",
        "    City = pd.NamedAgg(column='City', aggfunc=list),\n",
        "    State = pd.NamedAgg(column='State.Code', aggfunc=list)\n",
        ")"
      ]
    },
    {
      "cell_type": "code",
      "execution_count": null,
      "metadata": {
        "id": "Wk4QSvAMQexY",
        "outputId": "c836f48c-df12-4ad4-c681-17d1778550e4"
      },
      "outputs": [
        {
          "data": {
            "text/html": [
              "<div>\n",
              "<style scoped>\n",
              "    .dataframe tbody tr th:only-of-type {\n",
              "        vertical-align: middle;\n",
              "    }\n",
              "\n",
              "    .dataframe tbody tr th {\n",
              "        vertical-align: top;\n",
              "    }\n",
              "\n",
              "    .dataframe thead th {\n",
              "        text-align: right;\n",
              "    }\n",
              "</style>\n",
              "<table border=\"1\" class=\"dataframe\">\n",
              "  <thead>\n",
              "    <tr style=\"text-align: right;\">\n",
              "      <th></th>\n",
              "      <th>Applicant.ID</th>\n",
              "      <th>City</th>\n",
              "      <th>State</th>\n",
              "    </tr>\n",
              "  </thead>\n",
              "  <tbody>\n",
              "    <tr>\n",
              "      <th>0</th>\n",
              "      <td>42</td>\n",
              "      <td>[San Francisco, San Francisco, San Francisco, ...</td>\n",
              "      <td>[CA, CA, CA, CA]</td>\n",
              "    </tr>\n",
              "    <tr>\n",
              "      <th>1</th>\n",
              "      <td>96</td>\n",
              "      <td>[San Francisco, San Francisco, Burlingame]</td>\n",
              "      <td>[CA, CA, CA]</td>\n",
              "    </tr>\n",
              "    <tr>\n",
              "      <th>2</th>\n",
              "      <td>153</td>\n",
              "      <td>[Citrus Heights, Citrus Heights, Citrus Height...</td>\n",
              "      <td>[CA, CA, CA, CA, CA, CA, CA, CA, CA, CA, CA, C...</td>\n",
              "    </tr>\n",
              "    <tr>\n",
              "      <th>3</th>\n",
              "      <td>601</td>\n",
              "      <td>[Bay Area, San Francisco, Dededo, Palo Alto, P...</td>\n",
              "      <td>[CA, CA, nan, CA, CA, CA, NY, NY, NY, NY, CA, ...</td>\n",
              "    </tr>\n",
              "    <tr>\n",
              "      <th>4</th>\n",
              "      <td>1877</td>\n",
              "      <td>[Sunnyvale]</td>\n",
              "      <td>[CA]</td>\n",
              "    </tr>\n",
              "    <tr>\n",
              "      <th>...</th>\n",
              "      <td>...</td>\n",
              "      <td>...</td>\n",
              "      <td>...</td>\n",
              "    </tr>\n",
              "    <tr>\n",
              "      <th>3384</th>\n",
              "      <td>14546</td>\n",
              "      <td>[los angeles, los angeles, los angeles]</td>\n",
              "      <td>[CA, CA, CA]</td>\n",
              "    </tr>\n",
              "    <tr>\n",
              "      <th>3385</th>\n",
              "      <td>14547</td>\n",
              "      <td>[New York, New York]</td>\n",
              "      <td>[NY, NY]</td>\n",
              "    </tr>\n",
              "    <tr>\n",
              "      <th>3386</th>\n",
              "      <td>14549</td>\n",
              "      <td>[New York]</td>\n",
              "      <td>[NY]</td>\n",
              "    </tr>\n",
              "    <tr>\n",
              "      <th>3387</th>\n",
              "      <td>14552</td>\n",
              "      <td>[New York]</td>\n",
              "      <td>[NY]</td>\n",
              "    </tr>\n",
              "    <tr>\n",
              "      <th>3388</th>\n",
              "      <td>14616</td>\n",
              "      <td>[San Francisco, San Francisco, San Francisco]</td>\n",
              "      <td>[CA, CA, CA]</td>\n",
              "    </tr>\n",
              "  </tbody>\n",
              "</table>\n",
              "<p>3389 rows × 3 columns</p>\n",
              "</div>"
            ],
            "text/plain": [
              "      Applicant.ID                                               City  \\\n",
              "0               42  [San Francisco, San Francisco, San Francisco, ...   \n",
              "1               96         [San Francisco, San Francisco, Burlingame]   \n",
              "2              153  [Citrus Heights, Citrus Heights, Citrus Height...   \n",
              "3              601  [Bay Area, San Francisco, Dededo, Palo Alto, P...   \n",
              "4             1877                                        [Sunnyvale]   \n",
              "...            ...                                                ...   \n",
              "3384         14546            [los angeles, los angeles, los angeles]   \n",
              "3385         14547                               [New York, New York]   \n",
              "3386         14549                                         [New York]   \n",
              "3387         14552                                         [New York]   \n",
              "3388         14616      [San Francisco, San Francisco, San Francisco]   \n",
              "\n",
              "                                                  State  \n",
              "0                                      [CA, CA, CA, CA]  \n",
              "1                                          [CA, CA, CA]  \n",
              "2     [CA, CA, CA, CA, CA, CA, CA, CA, CA, CA, CA, C...  \n",
              "3     [CA, CA, nan, CA, CA, CA, NY, NY, NY, NY, CA, ...  \n",
              "4                                                  [CA]  \n",
              "...                                                 ...  \n",
              "3384                                       [CA, CA, CA]  \n",
              "3385                                           [NY, NY]  \n",
              "3386                                               [NY]  \n",
              "3387                                               [NY]  \n",
              "3388                                       [CA, CA, CA]  \n",
              "\n",
              "[3389 rows x 3 columns]"
            ]
          },
          "execution_count": 80,
          "metadata": {},
          "output_type": "execute_result"
        }
      ],
      "source": [
        "df2"
      ]
    },
    {
      "cell_type": "code",
      "execution_count": null,
      "metadata": {
        "id": "hOK34JpTQexY",
        "outputId": "06132c5d-59d4-4b6b-e708-166331669c7b"
      },
      "outputs": [
        {
          "name": "stderr",
          "output_type": "stream",
          "text": [
            "/var/folders/qh/sb22brg10nz7b84l6bfjcvq00000gn/T/ipykernel_10632/501912744.py:3: SettingWithCopyWarning: \n",
            "A value is trying to be set on a copy of a slice from a DataFrame\n",
            "\n",
            "See the caveats in the documentation: https://pandas.pydata.org/pandas-docs/stable/user_guide/indexing.html#returning-a-view-versus-a-copy\n",
            "  df2.City[i] = list(dict.fromkeys(df2.City[i]))\n",
            "/var/folders/qh/sb22brg10nz7b84l6bfjcvq00000gn/T/ipykernel_10632/501912744.py:4: SettingWithCopyWarning: \n",
            "A value is trying to be set on a copy of a slice from a DataFrame\n",
            "\n",
            "See the caveats in the documentation: https://pandas.pydata.org/pandas-docs/stable/user_guide/indexing.html#returning-a-view-versus-a-copy\n",
            "  df2.State[i] = list(dict.fromkeys(df2.State[i]))\n"
          ]
        }
      ],
      "source": [
        "#removing duplicate values in cities and in states\n",
        "for i in range(len(df2)):\n",
        "    df2.City[i] = list(dict.fromkeys(df2.City[i]))\n",
        "    df2.State[i] = list(dict.fromkeys(df2.State[i]))"
      ]
    },
    {
      "cell_type": "code",
      "execution_count": null,
      "metadata": {
        "id": "d55_eIsUQexY",
        "outputId": "b8138bec-1946-4e71-a6f7-013eec199fc2"
      },
      "outputs": [
        {
          "data": {
            "text/html": [
              "<div>\n",
              "<style scoped>\n",
              "    .dataframe tbody tr th:only-of-type {\n",
              "        vertical-align: middle;\n",
              "    }\n",
              "\n",
              "    .dataframe tbody tr th {\n",
              "        vertical-align: top;\n",
              "    }\n",
              "\n",
              "    .dataframe thead th {\n",
              "        text-align: right;\n",
              "    }\n",
              "</style>\n",
              "<table border=\"1\" class=\"dataframe\">\n",
              "  <thead>\n",
              "    <tr style=\"text-align: right;\">\n",
              "      <th></th>\n",
              "      <th>Applicant.ID</th>\n",
              "      <th>City</th>\n",
              "      <th>State</th>\n",
              "    </tr>\n",
              "  </thead>\n",
              "  <tbody>\n",
              "    <tr>\n",
              "      <th>0</th>\n",
              "      <td>42</td>\n",
              "      <td>[San Francisco]</td>\n",
              "      <td>[CA]</td>\n",
              "    </tr>\n",
              "    <tr>\n",
              "      <th>1</th>\n",
              "      <td>96</td>\n",
              "      <td>[San Francisco, Burlingame]</td>\n",
              "      <td>[CA]</td>\n",
              "    </tr>\n",
              "    <tr>\n",
              "      <th>2</th>\n",
              "      <td>153</td>\n",
              "      <td>[Citrus Heights, Roseville, San Jose, Fremont,...</td>\n",
              "      <td>[CA]</td>\n",
              "    </tr>\n",
              "    <tr>\n",
              "      <th>3</th>\n",
              "      <td>601</td>\n",
              "      <td>[Bay Area, San Francisco, Dededo, Palo Alto, N...</td>\n",
              "      <td>[CA, nan, NY, CT, FL]</td>\n",
              "    </tr>\n",
              "    <tr>\n",
              "      <th>4</th>\n",
              "      <td>1877</td>\n",
              "      <td>[Sunnyvale]</td>\n",
              "      <td>[CA]</td>\n",
              "    </tr>\n",
              "    <tr>\n",
              "      <th>...</th>\n",
              "      <td>...</td>\n",
              "      <td>...</td>\n",
              "      <td>...</td>\n",
              "    </tr>\n",
              "    <tr>\n",
              "      <th>3384</th>\n",
              "      <td>14546</td>\n",
              "      <td>[los angeles]</td>\n",
              "      <td>[CA]</td>\n",
              "    </tr>\n",
              "    <tr>\n",
              "      <th>3385</th>\n",
              "      <td>14547</td>\n",
              "      <td>[New York]</td>\n",
              "      <td>[NY]</td>\n",
              "    </tr>\n",
              "    <tr>\n",
              "      <th>3386</th>\n",
              "      <td>14549</td>\n",
              "      <td>[New York]</td>\n",
              "      <td>[NY]</td>\n",
              "    </tr>\n",
              "    <tr>\n",
              "      <th>3387</th>\n",
              "      <td>14552</td>\n",
              "      <td>[New York]</td>\n",
              "      <td>[NY]</td>\n",
              "    </tr>\n",
              "    <tr>\n",
              "      <th>3388</th>\n",
              "      <td>14616</td>\n",
              "      <td>[San Francisco]</td>\n",
              "      <td>[CA]</td>\n",
              "    </tr>\n",
              "  </tbody>\n",
              "</table>\n",
              "<p>3389 rows × 3 columns</p>\n",
              "</div>"
            ],
            "text/plain": [
              "      Applicant.ID                                               City  \\\n",
              "0               42                                    [San Francisco]   \n",
              "1               96                        [San Francisco, Burlingame]   \n",
              "2              153  [Citrus Heights, Roseville, San Jose, Fremont,...   \n",
              "3              601  [Bay Area, San Francisco, Dededo, Palo Alto, N...   \n",
              "4             1877                                        [Sunnyvale]   \n",
              "...            ...                                                ...   \n",
              "3384         14546                                      [los angeles]   \n",
              "3385         14547                                         [New York]   \n",
              "3386         14549                                         [New York]   \n",
              "3387         14552                                         [New York]   \n",
              "3388         14616                                    [San Francisco]   \n",
              "\n",
              "                      State  \n",
              "0                      [CA]  \n",
              "1                      [CA]  \n",
              "2                      [CA]  \n",
              "3     [CA, nan, NY, CT, FL]  \n",
              "4                      [CA]  \n",
              "...                     ...  \n",
              "3384                   [CA]  \n",
              "3385                   [NY]  \n",
              "3386                   [NY]  \n",
              "3387                   [NY]  \n",
              "3388                   [CA]  \n",
              "\n",
              "[3389 rows x 3 columns]"
            ]
          },
          "execution_count": 82,
          "metadata": {},
          "output_type": "execute_result"
        }
      ],
      "source": [
        "df2"
      ]
    },
    {
      "cell_type": "code",
      "execution_count": null,
      "metadata": {
        "id": "Ans8mpw_QexZ"
      },
      "outputs": [],
      "source": [
        "node_attr = df2.set_index('Applicant.ID').T.to_dict()"
      ]
    },
    {
      "cell_type": "code",
      "execution_count": null,
      "metadata": {
        "id": "BPbHV-OZQexZ"
      },
      "outputs": [],
      "source": [
        "nx.set_node_attributes(G, node_attr)"
      ]
    },
    {
      "cell_type": "markdown",
      "metadata": {
        "id": "noBxvz5xQexZ"
      },
      "source": [
        "#### 2.3. Creating recommendation functions"
      ]
    },
    {
      "cell_type": "code",
      "execution_count": null,
      "metadata": {
        "id": "5-x3V_qWQexZ"
      },
      "outputs": [],
      "source": [
        "def getRecForApplID(applicantId):\n",
        "\n",
        "    applicantNeighbors = list(G.neighbors(applicantId)) #looking for node's neighbors\n",
        "\n",
        "    res =  data[data['Applicant.ID'].isin(applicantNeighbors)]\n",
        "\n",
        "    res = res.drop_duplicates(subset=['Job.ID']) #removing duplicated recommended jobs (same jobs being recommended by different neighbors)\n",
        "\n",
        "    return res"
      ]
    },
    {
      "cell_type": "code",
      "execution_count": null,
      "metadata": {
        "id": "REnT6x3ZQexZ"
      },
      "outputs": [],
      "source": [
        "def getRecForApplIDWithCity(applicantId):\n",
        "\n",
        "    applicantNeighbors = list(G.neighbors(applicantId)) #looking for node's neighbors\n",
        "    applicantCities = G.nodes()[applicantId]['City'] #looking for node's cities\n",
        "\n",
        "    res =  data[data['Applicant.ID'].isin(applicantNeighbors) \n",
        "        & (data['City'].isin(applicantCities))]\n",
        "\n",
        "    res = res.drop_duplicates(subset=['Job.ID']) #removing duplicated recommended jobs (same jobs being recommended by different neighbors)\n",
        "\n",
        "    return res\n"
      ]
    },
    {
      "cell_type": "code",
      "execution_count": null,
      "metadata": {
        "id": "2tgFGJSSQexZ"
      },
      "outputs": [],
      "source": [
        "def getRecForApplIDWithStates(applicantId):\n",
        "\n",
        "    applicantNeighbors = list(G.neighbors(applicantId))\n",
        "    applicantStates = G.nodes()[applicantId]['State'] #looking for node's states\n",
        "\n",
        "    res =  data[data['Applicant.ID'].isin(applicantNeighbors) \n",
        "        & data['State.Code'].isin(applicantStates)]\n",
        "\n",
        "    res = res.drop_duplicates(subset=['Job.ID'])\n",
        "\n",
        "    return res"
      ]
    },
    {
      "cell_type": "markdown",
      "metadata": {
        "id": "7uJzNcxtQexZ"
      },
      "source": [
        "#### 2.4. Recommendation examples"
      ]
    },
    {
      "cell_type": "markdown",
      "metadata": {
        "id": "ZpsUVBt-Qexa"
      },
      "source": [
        "##### 2.4.1. Recommendations for applicant 10000"
      ]
    },
    {
      "cell_type": "markdown",
      "metadata": {
        "id": "9SfIJOCmQexa"
      },
      "source": [
        "Applicant 10000 information:"
      ]
    },
    {
      "cell_type": "code",
      "execution_count": null,
      "metadata": {
        "id": "GE5fLY3SQexa",
        "outputId": "3fe929e6-3c9e-4000-c8f9-834d23e92855"
      },
      "outputs": [
        {
          "name": "stdout",
          "output_type": "stream",
          "text": [
            "Applicant id 10000 neigbors are: \n",
            "11268, 11478, 9489, 9807\n",
            "Applicant 10000 has applied for jobs in the following cities: \n",
            "Newark, Garden City\n",
            "and in the following states: \n",
            "NJ, NY\n"
          ]
        }
      ],
      "source": [
        "applicantNeighbors = list(G.neighbors(10000)) \n",
        "applicantCities = G.nodes()[10000]['City']\n",
        "applicantStates = G.nodes()[10000]['State']\n",
        "\n",
        "print('Applicant id 10000 neigbors are: ')\n",
        "print(', '.join(map(str, applicantNeighbors)))\n",
        "print('Applicant 10000 has applied for jobs in the following cities: ')\n",
        "print(', '.join(map(str, applicantCities)))\n",
        "print('and in the following states: ')\n",
        "print(', '.join(map(str, applicantStates)))"
      ]
    },
    {
      "cell_type": "markdown",
      "metadata": {
        "id": "d8zrkMVLQexa"
      },
      "source": [
        "Recommendations for user 10000:"
      ]
    },
    {
      "cell_type": "code",
      "execution_count": null,
      "metadata": {
        "id": "fa48LOeXQexa",
        "outputId": "1405f86a-863b-40fc-abc9-18a684c01176"
      },
      "outputs": [
        {
          "data": {
            "text/html": [
              "<div>\n",
              "<style scoped>\n",
              "    .dataframe tbody tr th:only-of-type {\n",
              "        vertical-align: middle;\n",
              "    }\n",
              "\n",
              "    .dataframe tbody tr th {\n",
              "        vertical-align: top;\n",
              "    }\n",
              "\n",
              "    .dataframe thead th {\n",
              "        text-align: right;\n",
              "    }\n",
              "</style>\n",
              "<table border=\"1\" class=\"dataframe\">\n",
              "  <thead>\n",
              "    <tr style=\"text-align: right;\">\n",
              "      <th></th>\n",
              "      <th>Applicant.ID</th>\n",
              "      <th>Job.ID</th>\n",
              "      <th>Title</th>\n",
              "      <th>Company</th>\n",
              "      <th>City</th>\n",
              "      <th>State.Name</th>\n",
              "      <th>State.Code</th>\n",
              "      <th>Industry</th>\n",
              "      <th>View.Start</th>\n",
              "      <th>View.End</th>\n",
              "      <th>View.Duration</th>\n",
              "      <th>Created.At</th>\n",
              "      <th>Updated.At</th>\n",
              "      <th>Title_clean</th>\n",
              "    </tr>\n",
              "  </thead>\n",
              "  <tbody>\n",
              "    <tr>\n",
              "      <th>2413</th>\n",
              "      <td>11268</td>\n",
              "      <td>73666</td>\n",
              "      <td>Cashiers &amp; Valets Needed! @ WallyPark</td>\n",
              "      <td>WallyPark</td>\n",
              "      <td>Newark</td>\n",
              "      <td>New Jersey</td>\n",
              "      <td>NJ</td>\n",
              "      <td>NaN</td>\n",
              "      <td>2015-01-03 18:36:14 UTC</td>\n",
              "      <td>2015-01-03 18:36:36 UTC</td>\n",
              "      <td>21.0</td>\n",
              "      <td>2015-01-03 18:36:14 UTC</td>\n",
              "      <td>2015-01-03 18:36:14 UTC</td>\n",
              "      <td>cashiers valets</td>\n",
              "    </tr>\n",
              "    <tr>\n",
              "      <th>2414</th>\n",
              "      <td>11268</td>\n",
              "      <td>157861</td>\n",
              "      <td>Retail Positions Available: Produce, Deli, Bak...</td>\n",
              "      <td>NaN</td>\n",
              "      <td>Bronx</td>\n",
              "      <td>New York</td>\n",
              "      <td>NY</td>\n",
              "      <td>NaN</td>\n",
              "      <td>2015-01-03 18:36:42 UTC</td>\n",
              "      <td>2015-01-03 18:37:10 UTC</td>\n",
              "      <td>27.0</td>\n",
              "      <td>2015-01-03 18:36:42 UTC</td>\n",
              "      <td>2015-01-03 18:36:42 UTC</td>\n",
              "      <td>positions deli bakery cashiers</td>\n",
              "    </tr>\n",
              "    <tr>\n",
              "      <th>2415</th>\n",
              "      <td>11268</td>\n",
              "      <td>99081</td>\n",
              "      <td>Toys R Us Seasonal Off Hours Stock Crew @ Toys...</td>\n",
              "      <td>Toys \"R\" Us, Inc</td>\n",
              "      <td>Brooklyn</td>\n",
              "      <td>New York</td>\n",
              "      <td>NY</td>\n",
              "      <td>NaN</td>\n",
              "      <td>2015-01-03 18:37:35 UTC</td>\n",
              "      <td>2015-01-03 18:37:43 UTC</td>\n",
              "      <td>8.0</td>\n",
              "      <td>2015-01-03 18:37:35 UTC</td>\n",
              "      <td>2015-01-03 18:37:35 UTC</td>\n",
              "      <td>toys hours stock crew</td>\n",
              "    </tr>\n",
              "    <tr>\n",
              "      <th>2949</th>\n",
              "      <td>11478</td>\n",
              "      <td>91953</td>\n",
              "      <td>Package Handler - Part-Time @ UPS</td>\n",
              "      <td>UPS</td>\n",
              "      <td>Newark</td>\n",
              "      <td>New Jersey</td>\n",
              "      <td>NJ</td>\n",
              "      <td>NaN</td>\n",
              "      <td>2015-01-05 23:45:04 UTC</td>\n",
              "      <td>2015-01-05 23:55:33 UTC</td>\n",
              "      <td>628.0</td>\n",
              "      <td>2015-01-05 23:45:04 UTC</td>\n",
              "      <td>2015-01-05 23:45:04 UTC</td>\n",
              "      <td>handler</td>\n",
              "    </tr>\n",
              "    <tr>\n",
              "      <th>11501</th>\n",
              "      <td>9489</td>\n",
              "      <td>96655</td>\n",
              "      <td>Macy's Seasonal Retail Fragrance Cashier  - Ga...</td>\n",
              "      <td>Macy's</td>\n",
              "      <td>Garden City</td>\n",
              "      <td>New York</td>\n",
              "      <td>NY</td>\n",
              "      <td>NaN</td>\n",
              "      <td>2014-12-05 18:56:42 UTC</td>\n",
              "      <td>NaN</td>\n",
              "      <td>NaN</td>\n",
              "      <td>2014-12-05 18:56:42 UTC</td>\n",
              "      <td>2014-12-05 18:56:42 UTC</td>\n",
              "      <td>fragrance cashier garden city ny field</td>\n",
              "    </tr>\n",
              "    <tr>\n",
              "      <th>12055</th>\n",
              "      <td>9807</td>\n",
              "      <td>61392</td>\n",
              "      <td>Visitor Experience Assistant (Part-time) @ Jsp...</td>\n",
              "      <td>Jspace, LLC</td>\n",
              "      <td>New York</td>\n",
              "      <td>New York</td>\n",
              "      <td>NY</td>\n",
              "      <td>NaN</td>\n",
              "      <td>2014-12-10 01:51:44 UTC</td>\n",
              "      <td>2014-12-10 01:51:52 UTC</td>\n",
              "      <td>7.0</td>\n",
              "      <td>2014-12-10 01:51:44 UTC</td>\n",
              "      <td>2014-12-10 01:51:44 UTC</td>\n",
              "      <td>visitor experience assistant</td>\n",
              "    </tr>\n",
              "    <tr>\n",
              "      <th>12056</th>\n",
              "      <td>9807</td>\n",
              "      <td>80229</td>\n",
              "      <td>Restaurat - Line Cook / Prep Cook, Dish Prep /...</td>\n",
              "      <td>Olive Garden</td>\n",
              "      <td>Manhattan</td>\n",
              "      <td>New York</td>\n",
              "      <td>NY</td>\n",
              "      <td>NaN</td>\n",
              "      <td>2014-12-10 01:52:14 UTC</td>\n",
              "      <td>2014-12-10 01:52:31 UTC</td>\n",
              "      <td>17.0</td>\n",
              "      <td>2014-12-10 01:52:14 UTC</td>\n",
              "      <td>2014-12-10 01:52:14 UTC</td>\n",
              "      <td>line cook prep production dishwasher</td>\n",
              "    </tr>\n",
              "  </tbody>\n",
              "</table>\n",
              "</div>"
            ],
            "text/plain": [
              "       Applicant.ID  Job.ID  \\\n",
              "2413          11268   73666   \n",
              "2414          11268  157861   \n",
              "2415          11268   99081   \n",
              "2949          11478   91953   \n",
              "11501          9489   96655   \n",
              "12055          9807   61392   \n",
              "12056          9807   80229   \n",
              "\n",
              "                                                   Title           Company  \\\n",
              "2413               Cashiers & Valets Needed! @ WallyPark         WallyPark   \n",
              "2414   Retail Positions Available: Produce, Deli, Bak...               NaN   \n",
              "2415   Toys R Us Seasonal Off Hours Stock Crew @ Toys...  Toys \"R\" Us, Inc   \n",
              "2949                   Package Handler - Part-Time @ UPS               UPS   \n",
              "11501  Macy's Seasonal Retail Fragrance Cashier  - Ga...            Macy's   \n",
              "12055  Visitor Experience Assistant (Part-time) @ Jsp...       Jspace, LLC   \n",
              "12056  Restaurat - Line Cook / Prep Cook, Dish Prep /...      Olive Garden   \n",
              "\n",
              "              City  State.Name State.Code Industry               View.Start  \\\n",
              "2413        Newark  New Jersey         NJ      NaN  2015-01-03 18:36:14 UTC   \n",
              "2414         Bronx    New York         NY      NaN  2015-01-03 18:36:42 UTC   \n",
              "2415      Brooklyn    New York         NY      NaN  2015-01-03 18:37:35 UTC   \n",
              "2949        Newark  New Jersey         NJ      NaN  2015-01-05 23:45:04 UTC   \n",
              "11501  Garden City    New York         NY      NaN  2014-12-05 18:56:42 UTC   \n",
              "12055     New York    New York         NY      NaN  2014-12-10 01:51:44 UTC   \n",
              "12056    Manhattan    New York         NY      NaN  2014-12-10 01:52:14 UTC   \n",
              "\n",
              "                      View.End  View.Duration               Created.At  \\\n",
              "2413   2015-01-03 18:36:36 UTC           21.0  2015-01-03 18:36:14 UTC   \n",
              "2414   2015-01-03 18:37:10 UTC           27.0  2015-01-03 18:36:42 UTC   \n",
              "2415   2015-01-03 18:37:43 UTC            8.0  2015-01-03 18:37:35 UTC   \n",
              "2949   2015-01-05 23:55:33 UTC          628.0  2015-01-05 23:45:04 UTC   \n",
              "11501                      NaN            NaN  2014-12-05 18:56:42 UTC   \n",
              "12055  2014-12-10 01:51:52 UTC            7.0  2014-12-10 01:51:44 UTC   \n",
              "12056  2014-12-10 01:52:31 UTC           17.0  2014-12-10 01:52:14 UTC   \n",
              "\n",
              "                    Updated.At                             Title_clean  \n",
              "2413   2015-01-03 18:36:14 UTC                         cashiers valets  \n",
              "2414   2015-01-03 18:36:42 UTC          positions deli bakery cashiers  \n",
              "2415   2015-01-03 18:37:35 UTC                   toys hours stock crew  \n",
              "2949   2015-01-05 23:45:04 UTC                                 handler  \n",
              "11501  2014-12-05 18:56:42 UTC  fragrance cashier garden city ny field  \n",
              "12055  2014-12-10 01:51:44 UTC            visitor experience assistant  \n",
              "12056  2014-12-10 01:52:14 UTC    line cook prep production dishwasher  "
            ]
          },
          "execution_count": 120,
          "metadata": {},
          "output_type": "execute_result"
        }
      ],
      "source": [
        "getRecForApplID(10000)"
      ]
    },
    {
      "cell_type": "markdown",
      "metadata": {
        "id": "qQgZYvkIQexa"
      },
      "source": [
        "Recommendations for user 10000 at the same cities as the ones he has applied for jobs in:"
      ]
    },
    {
      "cell_type": "code",
      "execution_count": null,
      "metadata": {
        "id": "x8x_CCMoQexa",
        "outputId": "23017314-bf99-422a-a534-bf0b3c1e4ff6"
      },
      "outputs": [
        {
          "data": {
            "text/html": [
              "<div>\n",
              "<style scoped>\n",
              "    .dataframe tbody tr th:only-of-type {\n",
              "        vertical-align: middle;\n",
              "    }\n",
              "\n",
              "    .dataframe tbody tr th {\n",
              "        vertical-align: top;\n",
              "    }\n",
              "\n",
              "    .dataframe thead th {\n",
              "        text-align: right;\n",
              "    }\n",
              "</style>\n",
              "<table border=\"1\" class=\"dataframe\">\n",
              "  <thead>\n",
              "    <tr style=\"text-align: right;\">\n",
              "      <th></th>\n",
              "      <th>Applicant.ID</th>\n",
              "      <th>Job.ID</th>\n",
              "      <th>Title</th>\n",
              "      <th>Company</th>\n",
              "      <th>City</th>\n",
              "      <th>State.Name</th>\n",
              "      <th>State.Code</th>\n",
              "      <th>Industry</th>\n",
              "      <th>View.Start</th>\n",
              "      <th>View.End</th>\n",
              "      <th>View.Duration</th>\n",
              "      <th>Created.At</th>\n",
              "      <th>Updated.At</th>\n",
              "      <th>Title_clean</th>\n",
              "    </tr>\n",
              "  </thead>\n",
              "  <tbody>\n",
              "    <tr>\n",
              "      <th>2413</th>\n",
              "      <td>11268</td>\n",
              "      <td>73666</td>\n",
              "      <td>Cashiers &amp; Valets Needed! @ WallyPark</td>\n",
              "      <td>WallyPark</td>\n",
              "      <td>Newark</td>\n",
              "      <td>New Jersey</td>\n",
              "      <td>NJ</td>\n",
              "      <td>NaN</td>\n",
              "      <td>2015-01-03 18:36:14 UTC</td>\n",
              "      <td>2015-01-03 18:36:36 UTC</td>\n",
              "      <td>21.0</td>\n",
              "      <td>2015-01-03 18:36:14 UTC</td>\n",
              "      <td>2015-01-03 18:36:14 UTC</td>\n",
              "      <td>cashiers valets</td>\n",
              "    </tr>\n",
              "    <tr>\n",
              "      <th>2949</th>\n",
              "      <td>11478</td>\n",
              "      <td>91953</td>\n",
              "      <td>Package Handler - Part-Time @ UPS</td>\n",
              "      <td>UPS</td>\n",
              "      <td>Newark</td>\n",
              "      <td>New Jersey</td>\n",
              "      <td>NJ</td>\n",
              "      <td>NaN</td>\n",
              "      <td>2015-01-05 23:45:04 UTC</td>\n",
              "      <td>2015-01-05 23:55:33 UTC</td>\n",
              "      <td>628.0</td>\n",
              "      <td>2015-01-05 23:45:04 UTC</td>\n",
              "      <td>2015-01-05 23:45:04 UTC</td>\n",
              "      <td>handler</td>\n",
              "    </tr>\n",
              "    <tr>\n",
              "      <th>11501</th>\n",
              "      <td>9489</td>\n",
              "      <td>96655</td>\n",
              "      <td>Macy's Seasonal Retail Fragrance Cashier  - Ga...</td>\n",
              "      <td>Macy's</td>\n",
              "      <td>Garden City</td>\n",
              "      <td>New York</td>\n",
              "      <td>NY</td>\n",
              "      <td>NaN</td>\n",
              "      <td>2014-12-05 18:56:42 UTC</td>\n",
              "      <td>NaN</td>\n",
              "      <td>NaN</td>\n",
              "      <td>2014-12-05 18:56:42 UTC</td>\n",
              "      <td>2014-12-05 18:56:42 UTC</td>\n",
              "      <td>fragrance cashier garden city ny field</td>\n",
              "    </tr>\n",
              "  </tbody>\n",
              "</table>\n",
              "</div>"
            ],
            "text/plain": [
              "       Applicant.ID  Job.ID  \\\n",
              "2413          11268   73666   \n",
              "2949          11478   91953   \n",
              "11501          9489   96655   \n",
              "\n",
              "                                                   Title    Company  \\\n",
              "2413               Cashiers & Valets Needed! @ WallyPark  WallyPark   \n",
              "2949                   Package Handler - Part-Time @ UPS        UPS   \n",
              "11501  Macy's Seasonal Retail Fragrance Cashier  - Ga...     Macy's   \n",
              "\n",
              "              City  State.Name State.Code Industry               View.Start  \\\n",
              "2413        Newark  New Jersey         NJ      NaN  2015-01-03 18:36:14 UTC   \n",
              "2949        Newark  New Jersey         NJ      NaN  2015-01-05 23:45:04 UTC   \n",
              "11501  Garden City    New York         NY      NaN  2014-12-05 18:56:42 UTC   \n",
              "\n",
              "                      View.End  View.Duration               Created.At  \\\n",
              "2413   2015-01-03 18:36:36 UTC           21.0  2015-01-03 18:36:14 UTC   \n",
              "2949   2015-01-05 23:55:33 UTC          628.0  2015-01-05 23:45:04 UTC   \n",
              "11501                      NaN            NaN  2014-12-05 18:56:42 UTC   \n",
              "\n",
              "                    Updated.At                             Title_clean  \n",
              "2413   2015-01-03 18:36:14 UTC                         cashiers valets  \n",
              "2949   2015-01-05 23:45:04 UTC                                 handler  \n",
              "11501  2014-12-05 18:56:42 UTC  fragrance cashier garden city ny field  "
            ]
          },
          "execution_count": 87,
          "metadata": {},
          "output_type": "execute_result"
        }
      ],
      "source": [
        "getRecForApplIDWithCity(10000)"
      ]
    },
    {
      "cell_type": "markdown",
      "metadata": {
        "id": "1lGk2Z8kQexa"
      },
      "source": [
        "Recommendations for user 10000 at the same states as the ones he has applied for jobs in:"
      ]
    },
    {
      "cell_type": "code",
      "execution_count": null,
      "metadata": {
        "id": "NZGtg3zbQexb",
        "outputId": "f4f9f6bd-02c9-4ce9-b384-ccca2dbe6ce9"
      },
      "outputs": [
        {
          "data": {
            "text/html": [
              "<div>\n",
              "<style scoped>\n",
              "    .dataframe tbody tr th:only-of-type {\n",
              "        vertical-align: middle;\n",
              "    }\n",
              "\n",
              "    .dataframe tbody tr th {\n",
              "        vertical-align: top;\n",
              "    }\n",
              "\n",
              "    .dataframe thead th {\n",
              "        text-align: right;\n",
              "    }\n",
              "</style>\n",
              "<table border=\"1\" class=\"dataframe\">\n",
              "  <thead>\n",
              "    <tr style=\"text-align: right;\">\n",
              "      <th></th>\n",
              "      <th>Applicant.ID</th>\n",
              "      <th>Job.ID</th>\n",
              "      <th>Title</th>\n",
              "      <th>Company</th>\n",
              "      <th>City</th>\n",
              "      <th>State.Name</th>\n",
              "      <th>State.Code</th>\n",
              "      <th>Industry</th>\n",
              "      <th>View.Start</th>\n",
              "      <th>View.End</th>\n",
              "      <th>View.Duration</th>\n",
              "      <th>Created.At</th>\n",
              "      <th>Updated.At</th>\n",
              "      <th>Title_clean</th>\n",
              "    </tr>\n",
              "  </thead>\n",
              "  <tbody>\n",
              "    <tr>\n",
              "      <th>2413</th>\n",
              "      <td>11268</td>\n",
              "      <td>73666</td>\n",
              "      <td>Cashiers &amp; Valets Needed! @ WallyPark</td>\n",
              "      <td>WallyPark</td>\n",
              "      <td>Newark</td>\n",
              "      <td>New Jersey</td>\n",
              "      <td>NJ</td>\n",
              "      <td>NaN</td>\n",
              "      <td>2015-01-03 18:36:14 UTC</td>\n",
              "      <td>2015-01-03 18:36:36 UTC</td>\n",
              "      <td>21.0</td>\n",
              "      <td>2015-01-03 18:36:14 UTC</td>\n",
              "      <td>2015-01-03 18:36:14 UTC</td>\n",
              "      <td>cashiers valets</td>\n",
              "    </tr>\n",
              "    <tr>\n",
              "      <th>2414</th>\n",
              "      <td>11268</td>\n",
              "      <td>157861</td>\n",
              "      <td>Retail Positions Available: Produce, Deli, Bak...</td>\n",
              "      <td>NaN</td>\n",
              "      <td>Bronx</td>\n",
              "      <td>New York</td>\n",
              "      <td>NY</td>\n",
              "      <td>NaN</td>\n",
              "      <td>2015-01-03 18:36:42 UTC</td>\n",
              "      <td>2015-01-03 18:37:10 UTC</td>\n",
              "      <td>27.0</td>\n",
              "      <td>2015-01-03 18:36:42 UTC</td>\n",
              "      <td>2015-01-03 18:36:42 UTC</td>\n",
              "      <td>positions deli bakery cashiers</td>\n",
              "    </tr>\n",
              "    <tr>\n",
              "      <th>2415</th>\n",
              "      <td>11268</td>\n",
              "      <td>99081</td>\n",
              "      <td>Toys R Us Seasonal Off Hours Stock Crew @ Toys...</td>\n",
              "      <td>Toys \"R\" Us, Inc</td>\n",
              "      <td>Brooklyn</td>\n",
              "      <td>New York</td>\n",
              "      <td>NY</td>\n",
              "      <td>NaN</td>\n",
              "      <td>2015-01-03 18:37:35 UTC</td>\n",
              "      <td>2015-01-03 18:37:43 UTC</td>\n",
              "      <td>8.0</td>\n",
              "      <td>2015-01-03 18:37:35 UTC</td>\n",
              "      <td>2015-01-03 18:37:35 UTC</td>\n",
              "      <td>toys hours stock crew</td>\n",
              "    </tr>\n",
              "    <tr>\n",
              "      <th>2949</th>\n",
              "      <td>11478</td>\n",
              "      <td>91953</td>\n",
              "      <td>Package Handler - Part-Time @ UPS</td>\n",
              "      <td>UPS</td>\n",
              "      <td>Newark</td>\n",
              "      <td>New Jersey</td>\n",
              "      <td>NJ</td>\n",
              "      <td>NaN</td>\n",
              "      <td>2015-01-05 23:45:04 UTC</td>\n",
              "      <td>2015-01-05 23:55:33 UTC</td>\n",
              "      <td>628.0</td>\n",
              "      <td>2015-01-05 23:45:04 UTC</td>\n",
              "      <td>2015-01-05 23:45:04 UTC</td>\n",
              "      <td>handler</td>\n",
              "    </tr>\n",
              "    <tr>\n",
              "      <th>11501</th>\n",
              "      <td>9489</td>\n",
              "      <td>96655</td>\n",
              "      <td>Macy's Seasonal Retail Fragrance Cashier  - Ga...</td>\n",
              "      <td>Macy's</td>\n",
              "      <td>Garden City</td>\n",
              "      <td>New York</td>\n",
              "      <td>NY</td>\n",
              "      <td>NaN</td>\n",
              "      <td>2014-12-05 18:56:42 UTC</td>\n",
              "      <td>NaN</td>\n",
              "      <td>NaN</td>\n",
              "      <td>2014-12-05 18:56:42 UTC</td>\n",
              "      <td>2014-12-05 18:56:42 UTC</td>\n",
              "      <td>fragrance cashier garden city ny field</td>\n",
              "    </tr>\n",
              "    <tr>\n",
              "      <th>12055</th>\n",
              "      <td>9807</td>\n",
              "      <td>61392</td>\n",
              "      <td>Visitor Experience Assistant (Part-time) @ Jsp...</td>\n",
              "      <td>Jspace, LLC</td>\n",
              "      <td>New York</td>\n",
              "      <td>New York</td>\n",
              "      <td>NY</td>\n",
              "      <td>NaN</td>\n",
              "      <td>2014-12-10 01:51:44 UTC</td>\n",
              "      <td>2014-12-10 01:51:52 UTC</td>\n",
              "      <td>7.0</td>\n",
              "      <td>2014-12-10 01:51:44 UTC</td>\n",
              "      <td>2014-12-10 01:51:44 UTC</td>\n",
              "      <td>visitor experience assistant</td>\n",
              "    </tr>\n",
              "    <tr>\n",
              "      <th>12056</th>\n",
              "      <td>9807</td>\n",
              "      <td>80229</td>\n",
              "      <td>Restaurat - Line Cook / Prep Cook, Dish Prep /...</td>\n",
              "      <td>Olive Garden</td>\n",
              "      <td>Manhattan</td>\n",
              "      <td>New York</td>\n",
              "      <td>NY</td>\n",
              "      <td>NaN</td>\n",
              "      <td>2014-12-10 01:52:14 UTC</td>\n",
              "      <td>2014-12-10 01:52:31 UTC</td>\n",
              "      <td>17.0</td>\n",
              "      <td>2014-12-10 01:52:14 UTC</td>\n",
              "      <td>2014-12-10 01:52:14 UTC</td>\n",
              "      <td>line cook prep production dishwasher</td>\n",
              "    </tr>\n",
              "  </tbody>\n",
              "</table>\n",
              "</div>"
            ],
            "text/plain": [
              "       Applicant.ID  Job.ID  \\\n",
              "2413          11268   73666   \n",
              "2414          11268  157861   \n",
              "2415          11268   99081   \n",
              "2949          11478   91953   \n",
              "11501          9489   96655   \n",
              "12055          9807   61392   \n",
              "12056          9807   80229   \n",
              "\n",
              "                                                   Title           Company  \\\n",
              "2413               Cashiers & Valets Needed! @ WallyPark         WallyPark   \n",
              "2414   Retail Positions Available: Produce, Deli, Bak...               NaN   \n",
              "2415   Toys R Us Seasonal Off Hours Stock Crew @ Toys...  Toys \"R\" Us, Inc   \n",
              "2949                   Package Handler - Part-Time @ UPS               UPS   \n",
              "11501  Macy's Seasonal Retail Fragrance Cashier  - Ga...            Macy's   \n",
              "12055  Visitor Experience Assistant (Part-time) @ Jsp...       Jspace, LLC   \n",
              "12056  Restaurat - Line Cook / Prep Cook, Dish Prep /...      Olive Garden   \n",
              "\n",
              "              City  State.Name State.Code Industry               View.Start  \\\n",
              "2413        Newark  New Jersey         NJ      NaN  2015-01-03 18:36:14 UTC   \n",
              "2414         Bronx    New York         NY      NaN  2015-01-03 18:36:42 UTC   \n",
              "2415      Brooklyn    New York         NY      NaN  2015-01-03 18:37:35 UTC   \n",
              "2949        Newark  New Jersey         NJ      NaN  2015-01-05 23:45:04 UTC   \n",
              "11501  Garden City    New York         NY      NaN  2014-12-05 18:56:42 UTC   \n",
              "12055     New York    New York         NY      NaN  2014-12-10 01:51:44 UTC   \n",
              "12056    Manhattan    New York         NY      NaN  2014-12-10 01:52:14 UTC   \n",
              "\n",
              "                      View.End  View.Duration               Created.At  \\\n",
              "2413   2015-01-03 18:36:36 UTC           21.0  2015-01-03 18:36:14 UTC   \n",
              "2414   2015-01-03 18:37:10 UTC           27.0  2015-01-03 18:36:42 UTC   \n",
              "2415   2015-01-03 18:37:43 UTC            8.0  2015-01-03 18:37:35 UTC   \n",
              "2949   2015-01-05 23:55:33 UTC          628.0  2015-01-05 23:45:04 UTC   \n",
              "11501                      NaN            NaN  2014-12-05 18:56:42 UTC   \n",
              "12055  2014-12-10 01:51:52 UTC            7.0  2014-12-10 01:51:44 UTC   \n",
              "12056  2014-12-10 01:52:31 UTC           17.0  2014-12-10 01:52:14 UTC   \n",
              "\n",
              "                    Updated.At                             Title_clean  \n",
              "2413   2015-01-03 18:36:14 UTC                         cashiers valets  \n",
              "2414   2015-01-03 18:36:42 UTC          positions deli bakery cashiers  \n",
              "2415   2015-01-03 18:37:35 UTC                   toys hours stock crew  \n",
              "2949   2015-01-05 23:45:04 UTC                                 handler  \n",
              "11501  2014-12-05 18:56:42 UTC  fragrance cashier garden city ny field  \n",
              "12055  2014-12-10 01:51:44 UTC            visitor experience assistant  \n",
              "12056  2014-12-10 01:52:14 UTC    line cook prep production dishwasher  "
            ]
          },
          "execution_count": 93,
          "metadata": {},
          "output_type": "execute_result"
        }
      ],
      "source": [
        "getRecForApplIDWithStates(10000)"
      ]
    },
    {
      "cell_type": "markdown",
      "metadata": {
        "id": "GmY7byXpQexb"
      },
      "source": [
        "We can see how neighbour 9807 is not shown in the city function, whereas we can see that is present in the states one. This is because applicant 9807 has applied for jobs in the same states as applicant 10000 but hasn't applied for jobs in the same city, and that why jobs applicant 9807 have applied to, aren't shown in the city job recommendations"
      ]
    },
    {
      "cell_type": "markdown",
      "metadata": {
        "id": "sbJKdnBYQexb"
      },
      "source": [
        "##### 2.4.2. Recommendations for applicant 11268"
      ]
    },
    {
      "cell_type": "markdown",
      "metadata": {
        "id": "iCL5jhXQQexb"
      },
      "source": [
        "Applicant 11268 information:"
      ]
    },
    {
      "cell_type": "code",
      "execution_count": null,
      "metadata": {
        "id": "rkmBHnUxQexb",
        "outputId": "048d5aee-e7ca-42c3-da54-5baf64412818"
      },
      "outputs": [
        {
          "name": "stdout",
          "output_type": "stream",
          "text": [
            "Applicant id 11268 neigbors are: \n",
            "10516, 10540, 11268, 12298, 12764, 13488, 13498\n",
            "Applicant id 11268 has applied for jobs in the following cities: \n",
            "Brooklyn\n",
            "and in the following states: \n",
            "NY\n"
          ]
        }
      ],
      "source": [
        "applicantNeighbors = list(G.neighbors(12615)) \n",
        "applicantCities = G.nodes()[12615]['City']\n",
        "applicantStates = G.nodes()[12615]['State']\n",
        "\n",
        "print('Applicant id 11268 neigbors are: ')\n",
        "print(', '.join(map(str, applicantNeighbors)))\n",
        "print('Applicant id 11268 has applied for jobs in the following cities: ')\n",
        "print(', '.join(map(str, applicantCities)))\n",
        "print('and in the following states: ')\n",
        "print(', '.join(map(str, applicantStates)))"
      ]
    },
    {
      "cell_type": "markdown",
      "metadata": {
        "id": "rNQ3q5RQQexb"
      },
      "source": [
        "Recommendations for user 10000:"
      ]
    },
    {
      "cell_type": "code",
      "execution_count": null,
      "metadata": {
        "id": "XhtYTkC8Qexb",
        "outputId": "9cb50531-6c48-4944-a42c-18f2b871d66e"
      },
      "outputs": [
        {
          "data": {
            "text/html": [
              "<div>\n",
              "<style scoped>\n",
              "    .dataframe tbody tr th:only-of-type {\n",
              "        vertical-align: middle;\n",
              "    }\n",
              "\n",
              "    .dataframe tbody tr th {\n",
              "        vertical-align: top;\n",
              "    }\n",
              "\n",
              "    .dataframe thead th {\n",
              "        text-align: right;\n",
              "    }\n",
              "</style>\n",
              "<table border=\"1\" class=\"dataframe\">\n",
              "  <thead>\n",
              "    <tr style=\"text-align: right;\">\n",
              "      <th></th>\n",
              "      <th>Applicant.ID</th>\n",
              "      <th>Job.ID</th>\n",
              "      <th>Title</th>\n",
              "      <th>Company</th>\n",
              "      <th>City</th>\n",
              "      <th>State.Name</th>\n",
              "      <th>State.Code</th>\n",
              "      <th>Industry</th>\n",
              "      <th>View.Start</th>\n",
              "      <th>View.End</th>\n",
              "      <th>View.Duration</th>\n",
              "      <th>Created.At</th>\n",
              "      <th>Updated.At</th>\n",
              "      <th>Title_clean</th>\n",
              "    </tr>\n",
              "  </thead>\n",
              "  <tbody>\n",
              "    <tr>\n",
              "      <th>970</th>\n",
              "      <td>10516</td>\n",
              "      <td>99081</td>\n",
              "      <td>Toys R Us Seasonal Off Hours Stock Crew @ Toys...</td>\n",
              "      <td>Toys \"R\" Us, Inc</td>\n",
              "      <td>Brooklyn</td>\n",
              "      <td>New York</td>\n",
              "      <td>NY</td>\n",
              "      <td>NaN</td>\n",
              "      <td>2014-12-21 20:17:09 UTC</td>\n",
              "      <td>2014-12-21 20:17:29 UTC</td>\n",
              "      <td>20.0</td>\n",
              "      <td>2014-12-21 20:17:09 UTC</td>\n",
              "      <td>2014-12-21 20:17:09 UTC</td>\n",
              "      <td>toys hours stock crew</td>\n",
              "    </tr>\n",
              "    <tr>\n",
              "      <th>972</th>\n",
              "      <td>10516</td>\n",
              "      <td>79736</td>\n",
              "      <td>Retail Sales Associate / Photographer (Seasona...</td>\n",
              "      <td>J. C. Penney Portrait Studios</td>\n",
              "      <td>Brooklyn</td>\n",
              "      <td>New York</td>\n",
              "      <td>NY</td>\n",
              "      <td>NaN</td>\n",
              "      <td>2014-12-21 20:20:37 UTC</td>\n",
              "      <td>2014-12-21 20:20:46 UTC</td>\n",
              "      <td>8.0</td>\n",
              "      <td>2014-12-21 20:20:37 UTC</td>\n",
              "      <td>2014-12-21 20:20:37 UTC</td>\n",
              "      <td>sales associate photographer</td>\n",
              "    </tr>\n",
              "    <tr>\n",
              "      <th>974</th>\n",
              "      <td>10516</td>\n",
              "      <td>84168</td>\n",
              "      <td>Track Equipment Maintainer @ MTA New York City...</td>\n",
              "      <td>MTA New York City Transit</td>\n",
              "      <td>Brooklyn</td>\n",
              "      <td>New York</td>\n",
              "      <td>NY</td>\n",
              "      <td>NaN</td>\n",
              "      <td>2014-12-21 20:16:12 UTC</td>\n",
              "      <td>2014-12-21 20:16:47 UTC</td>\n",
              "      <td>34.0</td>\n",
              "      <td>2014-12-21 20:16:12 UTC</td>\n",
              "      <td>2014-12-21 20:16:12 UTC</td>\n",
              "      <td>track equipment maintainer</td>\n",
              "    </tr>\n",
              "    <tr>\n",
              "      <th>976</th>\n",
              "      <td>10516</td>\n",
              "      <td>150667</td>\n",
              "      <td>Housekeeper @ New York Sports Clubs</td>\n",
              "      <td>New York Sports Clubs</td>\n",
              "      <td>Hawthorne</td>\n",
              "      <td>New York</td>\n",
              "      <td>NY</td>\n",
              "      <td>NaN</td>\n",
              "      <td>2014-12-21 20:23:39 UTC</td>\n",
              "      <td>2014-12-21 20:24:30 UTC</td>\n",
              "      <td>51.0</td>\n",
              "      <td>2014-12-21 20:23:39 UTC</td>\n",
              "      <td>2014-12-21 20:23:39 UTC</td>\n",
              "      <td>housekeeper</td>\n",
              "    </tr>\n",
              "    <tr>\n",
              "      <th>2413</th>\n",
              "      <td>11268</td>\n",
              "      <td>73666</td>\n",
              "      <td>Cashiers &amp; Valets Needed! @ WallyPark</td>\n",
              "      <td>WallyPark</td>\n",
              "      <td>Newark</td>\n",
              "      <td>New Jersey</td>\n",
              "      <td>NJ</td>\n",
              "      <td>NaN</td>\n",
              "      <td>2015-01-03 18:36:14 UTC</td>\n",
              "      <td>2015-01-03 18:36:36 UTC</td>\n",
              "      <td>21.0</td>\n",
              "      <td>2015-01-03 18:36:14 UTC</td>\n",
              "      <td>2015-01-03 18:36:14 UTC</td>\n",
              "      <td>cashiers valets</td>\n",
              "    </tr>\n",
              "    <tr>\n",
              "      <th>2414</th>\n",
              "      <td>11268</td>\n",
              "      <td>157861</td>\n",
              "      <td>Retail Positions Available: Produce, Deli, Bak...</td>\n",
              "      <td>NaN</td>\n",
              "      <td>Bronx</td>\n",
              "      <td>New York</td>\n",
              "      <td>NY</td>\n",
              "      <td>NaN</td>\n",
              "      <td>2015-01-03 18:36:42 UTC</td>\n",
              "      <td>2015-01-03 18:37:10 UTC</td>\n",
              "      <td>27.0</td>\n",
              "      <td>2015-01-03 18:36:42 UTC</td>\n",
              "      <td>2015-01-03 18:36:42 UTC</td>\n",
              "      <td>positions deli bakery cashiers</td>\n",
              "    </tr>\n",
              "    <tr>\n",
              "      <th>4624</th>\n",
              "      <td>12298</td>\n",
              "      <td>99484</td>\n",
              "      <td>Toys R Us Seasonal Sales Team Member @ Toys \"R...</td>\n",
              "      <td>Toys \"R\" Us, Inc</td>\n",
              "      <td>Brooklyn</td>\n",
              "      <td>New York</td>\n",
              "      <td>NY</td>\n",
              "      <td>NaN</td>\n",
              "      <td>2015-01-15 00:46:13 UTC</td>\n",
              "      <td>2015-01-15 00:47:09 UTC</td>\n",
              "      <td>56.0</td>\n",
              "      <td>2015-01-15 00:46:13 UTC</td>\n",
              "      <td>2015-01-15 00:46:13 UTC</td>\n",
              "      <td>toys sales team member</td>\n",
              "    </tr>\n",
              "    <tr>\n",
              "      <th>4628</th>\n",
              "      <td>12298</td>\n",
              "      <td>80449</td>\n",
              "      <td>Macy's Seasonal Retail Sales Part Time - New Y...</td>\n",
              "      <td>Macy's</td>\n",
              "      <td>New York</td>\n",
              "      <td>New York</td>\n",
              "      <td>NY</td>\n",
              "      <td>NaN</td>\n",
              "      <td>2015-01-15 01:02:16 UTC</td>\n",
              "      <td>2015-01-15 01:03:59 UTC</td>\n",
              "      <td>103.0</td>\n",
              "      <td>2015-01-15 01:02:16 UTC</td>\n",
              "      <td>2015-01-15 01:02:16 UTC</td>\n",
              "      <td>sales square</td>\n",
              "    </tr>\n",
              "    <tr>\n",
              "      <th>5590</th>\n",
              "      <td>12764</td>\n",
              "      <td>176138</td>\n",
              "      <td>Sports Event Ambassadors Needed for Downtown B...</td>\n",
              "      <td>Penda Aiken, Inc.</td>\n",
              "      <td>Brooklyn</td>\n",
              "      <td>New York</td>\n",
              "      <td>NY</td>\n",
              "      <td>NaN</td>\n",
              "      <td>2015-01-20 03:28:36 UTC</td>\n",
              "      <td>2015-01-20 03:30:08 UTC</td>\n",
              "      <td>91.0</td>\n",
              "      <td>2015-01-20 03:28:36 UTC</td>\n",
              "      <td>2015-01-20 03:28:36 UTC</td>\n",
              "      <td>sports event ambassadors downtown brooklyn events</td>\n",
              "    </tr>\n",
              "  </tbody>\n",
              "</table>\n",
              "</div>"
            ],
            "text/plain": [
              "      Applicant.ID  Job.ID                                              Title  \\\n",
              "970          10516   99081  Toys R Us Seasonal Off Hours Stock Crew @ Toys...   \n",
              "972          10516   79736  Retail Sales Associate / Photographer (Seasona...   \n",
              "974          10516   84168  Track Equipment Maintainer @ MTA New York City...   \n",
              "976          10516  150667                Housekeeper @ New York Sports Clubs   \n",
              "2413         11268   73666              Cashiers & Valets Needed! @ WallyPark   \n",
              "2414         11268  157861  Retail Positions Available: Produce, Deli, Bak...   \n",
              "4624         12298   99484  Toys R Us Seasonal Sales Team Member @ Toys \"R...   \n",
              "4628         12298   80449  Macy's Seasonal Retail Sales Part Time - New Y...   \n",
              "5590         12764  176138  Sports Event Ambassadors Needed for Downtown B...   \n",
              "\n",
              "                            Company       City  State.Name State.Code  \\\n",
              "970                Toys \"R\" Us, Inc   Brooklyn    New York         NY   \n",
              "972   J. C. Penney Portrait Studios   Brooklyn    New York         NY   \n",
              "974       MTA New York City Transit   Brooklyn    New York         NY   \n",
              "976           New York Sports Clubs  Hawthorne    New York         NY   \n",
              "2413                      WallyPark     Newark  New Jersey         NJ   \n",
              "2414                            NaN      Bronx    New York         NY   \n",
              "4624               Toys \"R\" Us, Inc   Brooklyn    New York         NY   \n",
              "4628                         Macy's   New York    New York         NY   \n",
              "5590              Penda Aiken, Inc.   Brooklyn    New York         NY   \n",
              "\n",
              "     Industry               View.Start                 View.End  \\\n",
              "970       NaN  2014-12-21 20:17:09 UTC  2014-12-21 20:17:29 UTC   \n",
              "972       NaN  2014-12-21 20:20:37 UTC  2014-12-21 20:20:46 UTC   \n",
              "974       NaN  2014-12-21 20:16:12 UTC  2014-12-21 20:16:47 UTC   \n",
              "976       NaN  2014-12-21 20:23:39 UTC  2014-12-21 20:24:30 UTC   \n",
              "2413      NaN  2015-01-03 18:36:14 UTC  2015-01-03 18:36:36 UTC   \n",
              "2414      NaN  2015-01-03 18:36:42 UTC  2015-01-03 18:37:10 UTC   \n",
              "4624      NaN  2015-01-15 00:46:13 UTC  2015-01-15 00:47:09 UTC   \n",
              "4628      NaN  2015-01-15 01:02:16 UTC  2015-01-15 01:03:59 UTC   \n",
              "5590      NaN  2015-01-20 03:28:36 UTC  2015-01-20 03:30:08 UTC   \n",
              "\n",
              "      View.Duration               Created.At               Updated.At  \\\n",
              "970            20.0  2014-12-21 20:17:09 UTC  2014-12-21 20:17:09 UTC   \n",
              "972             8.0  2014-12-21 20:20:37 UTC  2014-12-21 20:20:37 UTC   \n",
              "974            34.0  2014-12-21 20:16:12 UTC  2014-12-21 20:16:12 UTC   \n",
              "976            51.0  2014-12-21 20:23:39 UTC  2014-12-21 20:23:39 UTC   \n",
              "2413           21.0  2015-01-03 18:36:14 UTC  2015-01-03 18:36:14 UTC   \n",
              "2414           27.0  2015-01-03 18:36:42 UTC  2015-01-03 18:36:42 UTC   \n",
              "4624           56.0  2015-01-15 00:46:13 UTC  2015-01-15 00:46:13 UTC   \n",
              "4628          103.0  2015-01-15 01:02:16 UTC  2015-01-15 01:02:16 UTC   \n",
              "5590           91.0  2015-01-20 03:28:36 UTC  2015-01-20 03:28:36 UTC   \n",
              "\n",
              "                                            Title_clean  \n",
              "970                               toys hours stock crew  \n",
              "972                        sales associate photographer  \n",
              "974                          track equipment maintainer  \n",
              "976                                         housekeeper  \n",
              "2413                                    cashiers valets  \n",
              "2414                     positions deli bakery cashiers  \n",
              "4624                             toys sales team member  \n",
              "4628                                       sales square  \n",
              "5590  sports event ambassadors downtown brooklyn events  "
            ]
          },
          "execution_count": 125,
          "metadata": {},
          "output_type": "execute_result"
        }
      ],
      "source": [
        "getRecForApplID(12615)"
      ]
    },
    {
      "cell_type": "markdown",
      "metadata": {
        "id": "Ig6cly-VQexc"
      },
      "source": [
        "Recommendations for user 11268 at the same cities as the ones he has applied for jobs in:"
      ]
    },
    {
      "cell_type": "code",
      "execution_count": null,
      "metadata": {
        "id": "3FGNQcSQQexc",
        "outputId": "753c456e-35ef-4a89-fa5b-5eebdd0d4d00"
      },
      "outputs": [
        {
          "data": {
            "text/html": [
              "<div>\n",
              "<style scoped>\n",
              "    .dataframe tbody tr th:only-of-type {\n",
              "        vertical-align: middle;\n",
              "    }\n",
              "\n",
              "    .dataframe tbody tr th {\n",
              "        vertical-align: top;\n",
              "    }\n",
              "\n",
              "    .dataframe thead th {\n",
              "        text-align: right;\n",
              "    }\n",
              "</style>\n",
              "<table border=\"1\" class=\"dataframe\">\n",
              "  <thead>\n",
              "    <tr style=\"text-align: right;\">\n",
              "      <th></th>\n",
              "      <th>Applicant.ID</th>\n",
              "      <th>Job.ID</th>\n",
              "      <th>Title</th>\n",
              "      <th>Company</th>\n",
              "      <th>City</th>\n",
              "      <th>State.Name</th>\n",
              "      <th>State.Code</th>\n",
              "      <th>Industry</th>\n",
              "      <th>View.Start</th>\n",
              "      <th>View.End</th>\n",
              "      <th>View.Duration</th>\n",
              "      <th>Created.At</th>\n",
              "      <th>Updated.At</th>\n",
              "      <th>Title_clean</th>\n",
              "    </tr>\n",
              "  </thead>\n",
              "  <tbody>\n",
              "    <tr>\n",
              "      <th>970</th>\n",
              "      <td>10516</td>\n",
              "      <td>99081</td>\n",
              "      <td>Toys R Us Seasonal Off Hours Stock Crew @ Toys...</td>\n",
              "      <td>Toys \"R\" Us, Inc</td>\n",
              "      <td>Brooklyn</td>\n",
              "      <td>New York</td>\n",
              "      <td>NY</td>\n",
              "      <td>NaN</td>\n",
              "      <td>2014-12-21 20:17:09 UTC</td>\n",
              "      <td>2014-12-21 20:17:29 UTC</td>\n",
              "      <td>20.0</td>\n",
              "      <td>2014-12-21 20:17:09 UTC</td>\n",
              "      <td>2014-12-21 20:17:09 UTC</td>\n",
              "      <td>toys hours stock crew</td>\n",
              "    </tr>\n",
              "    <tr>\n",
              "      <th>972</th>\n",
              "      <td>10516</td>\n",
              "      <td>79736</td>\n",
              "      <td>Retail Sales Associate / Photographer (Seasona...</td>\n",
              "      <td>J. C. Penney Portrait Studios</td>\n",
              "      <td>Brooklyn</td>\n",
              "      <td>New York</td>\n",
              "      <td>NY</td>\n",
              "      <td>NaN</td>\n",
              "      <td>2014-12-21 20:20:37 UTC</td>\n",
              "      <td>2014-12-21 20:20:46 UTC</td>\n",
              "      <td>8.0</td>\n",
              "      <td>2014-12-21 20:20:37 UTC</td>\n",
              "      <td>2014-12-21 20:20:37 UTC</td>\n",
              "      <td>sales associate photographer</td>\n",
              "    </tr>\n",
              "    <tr>\n",
              "      <th>974</th>\n",
              "      <td>10516</td>\n",
              "      <td>84168</td>\n",
              "      <td>Track Equipment Maintainer @ MTA New York City...</td>\n",
              "      <td>MTA New York City Transit</td>\n",
              "      <td>Brooklyn</td>\n",
              "      <td>New York</td>\n",
              "      <td>NY</td>\n",
              "      <td>NaN</td>\n",
              "      <td>2014-12-21 20:16:12 UTC</td>\n",
              "      <td>2014-12-21 20:16:47 UTC</td>\n",
              "      <td>34.0</td>\n",
              "      <td>2014-12-21 20:16:12 UTC</td>\n",
              "      <td>2014-12-21 20:16:12 UTC</td>\n",
              "      <td>track equipment maintainer</td>\n",
              "    </tr>\n",
              "    <tr>\n",
              "      <th>4624</th>\n",
              "      <td>12298</td>\n",
              "      <td>99484</td>\n",
              "      <td>Toys R Us Seasonal Sales Team Member @ Toys \"R...</td>\n",
              "      <td>Toys \"R\" Us, Inc</td>\n",
              "      <td>Brooklyn</td>\n",
              "      <td>New York</td>\n",
              "      <td>NY</td>\n",
              "      <td>NaN</td>\n",
              "      <td>2015-01-15 00:46:13 UTC</td>\n",
              "      <td>2015-01-15 00:47:09 UTC</td>\n",
              "      <td>56.0</td>\n",
              "      <td>2015-01-15 00:46:13 UTC</td>\n",
              "      <td>2015-01-15 00:46:13 UTC</td>\n",
              "      <td>toys sales team member</td>\n",
              "    </tr>\n",
              "    <tr>\n",
              "      <th>5590</th>\n",
              "      <td>12764</td>\n",
              "      <td>176138</td>\n",
              "      <td>Sports Event Ambassadors Needed for Downtown B...</td>\n",
              "      <td>Penda Aiken, Inc.</td>\n",
              "      <td>Brooklyn</td>\n",
              "      <td>New York</td>\n",
              "      <td>NY</td>\n",
              "      <td>NaN</td>\n",
              "      <td>2015-01-20 03:28:36 UTC</td>\n",
              "      <td>2015-01-20 03:30:08 UTC</td>\n",
              "      <td>91.0</td>\n",
              "      <td>2015-01-20 03:28:36 UTC</td>\n",
              "      <td>2015-01-20 03:28:36 UTC</td>\n",
              "      <td>sports event ambassadors downtown brooklyn events</td>\n",
              "    </tr>\n",
              "  </tbody>\n",
              "</table>\n",
              "</div>"
            ],
            "text/plain": [
              "      Applicant.ID  Job.ID                                              Title  \\\n",
              "970          10516   99081  Toys R Us Seasonal Off Hours Stock Crew @ Toys...   \n",
              "972          10516   79736  Retail Sales Associate / Photographer (Seasona...   \n",
              "974          10516   84168  Track Equipment Maintainer @ MTA New York City...   \n",
              "4624         12298   99484  Toys R Us Seasonal Sales Team Member @ Toys \"R...   \n",
              "5590         12764  176138  Sports Event Ambassadors Needed for Downtown B...   \n",
              "\n",
              "                            Company      City State.Name State.Code Industry  \\\n",
              "970                Toys \"R\" Us, Inc  Brooklyn   New York         NY      NaN   \n",
              "972   J. C. Penney Portrait Studios  Brooklyn   New York         NY      NaN   \n",
              "974       MTA New York City Transit  Brooklyn   New York         NY      NaN   \n",
              "4624               Toys \"R\" Us, Inc  Brooklyn   New York         NY      NaN   \n",
              "5590              Penda Aiken, Inc.  Brooklyn   New York         NY      NaN   \n",
              "\n",
              "                   View.Start                 View.End  View.Duration  \\\n",
              "970   2014-12-21 20:17:09 UTC  2014-12-21 20:17:29 UTC           20.0   \n",
              "972   2014-12-21 20:20:37 UTC  2014-12-21 20:20:46 UTC            8.0   \n",
              "974   2014-12-21 20:16:12 UTC  2014-12-21 20:16:47 UTC           34.0   \n",
              "4624  2015-01-15 00:46:13 UTC  2015-01-15 00:47:09 UTC           56.0   \n",
              "5590  2015-01-20 03:28:36 UTC  2015-01-20 03:30:08 UTC           91.0   \n",
              "\n",
              "                   Created.At               Updated.At  \\\n",
              "970   2014-12-21 20:17:09 UTC  2014-12-21 20:17:09 UTC   \n",
              "972   2014-12-21 20:20:37 UTC  2014-12-21 20:20:37 UTC   \n",
              "974   2014-12-21 20:16:12 UTC  2014-12-21 20:16:12 UTC   \n",
              "4624  2015-01-15 00:46:13 UTC  2015-01-15 00:46:13 UTC   \n",
              "5590  2015-01-20 03:28:36 UTC  2015-01-20 03:28:36 UTC   \n",
              "\n",
              "                                            Title_clean  \n",
              "970                               toys hours stock crew  \n",
              "972                        sales associate photographer  \n",
              "974                          track equipment maintainer  \n",
              "4624                             toys sales team member  \n",
              "5590  sports event ambassadors downtown brooklyn events  "
            ]
          },
          "execution_count": 126,
          "metadata": {},
          "output_type": "execute_result"
        }
      ],
      "source": [
        "getRecForApplIDWithCity(12615)"
      ]
    },
    {
      "cell_type": "markdown",
      "metadata": {
        "id": "xar5cAamQexc"
      },
      "source": [
        "Recommendations for user 11268 at the same states as the ones he has applied for jobs in:"
      ]
    },
    {
      "cell_type": "code",
      "execution_count": null,
      "metadata": {
        "id": "sIp3KRajQexc",
        "outputId": "47dc6e9b-5ade-43e9-b61e-b45c8ea056b1"
      },
      "outputs": [
        {
          "data": {
            "text/html": [
              "<div>\n",
              "<style scoped>\n",
              "    .dataframe tbody tr th:only-of-type {\n",
              "        vertical-align: middle;\n",
              "    }\n",
              "\n",
              "    .dataframe tbody tr th {\n",
              "        vertical-align: top;\n",
              "    }\n",
              "\n",
              "    .dataframe thead th {\n",
              "        text-align: right;\n",
              "    }\n",
              "</style>\n",
              "<table border=\"1\" class=\"dataframe\">\n",
              "  <thead>\n",
              "    <tr style=\"text-align: right;\">\n",
              "      <th></th>\n",
              "      <th>Applicant.ID</th>\n",
              "      <th>Job.ID</th>\n",
              "      <th>Title</th>\n",
              "      <th>Company</th>\n",
              "      <th>City</th>\n",
              "      <th>State.Name</th>\n",
              "      <th>State.Code</th>\n",
              "      <th>Industry</th>\n",
              "      <th>View.Start</th>\n",
              "      <th>View.End</th>\n",
              "      <th>View.Duration</th>\n",
              "      <th>Created.At</th>\n",
              "      <th>Updated.At</th>\n",
              "      <th>Title_clean</th>\n",
              "    </tr>\n",
              "  </thead>\n",
              "  <tbody>\n",
              "    <tr>\n",
              "      <th>970</th>\n",
              "      <td>10516</td>\n",
              "      <td>99081</td>\n",
              "      <td>Toys R Us Seasonal Off Hours Stock Crew @ Toys...</td>\n",
              "      <td>Toys \"R\" Us, Inc</td>\n",
              "      <td>Brooklyn</td>\n",
              "      <td>New York</td>\n",
              "      <td>NY</td>\n",
              "      <td>NaN</td>\n",
              "      <td>2014-12-21 20:17:09 UTC</td>\n",
              "      <td>2014-12-21 20:17:29 UTC</td>\n",
              "      <td>20.0</td>\n",
              "      <td>2014-12-21 20:17:09 UTC</td>\n",
              "      <td>2014-12-21 20:17:09 UTC</td>\n",
              "      <td>toys hours stock crew</td>\n",
              "    </tr>\n",
              "    <tr>\n",
              "      <th>972</th>\n",
              "      <td>10516</td>\n",
              "      <td>79736</td>\n",
              "      <td>Retail Sales Associate / Photographer (Seasona...</td>\n",
              "      <td>J. C. Penney Portrait Studios</td>\n",
              "      <td>Brooklyn</td>\n",
              "      <td>New York</td>\n",
              "      <td>NY</td>\n",
              "      <td>NaN</td>\n",
              "      <td>2014-12-21 20:20:37 UTC</td>\n",
              "      <td>2014-12-21 20:20:46 UTC</td>\n",
              "      <td>8.0</td>\n",
              "      <td>2014-12-21 20:20:37 UTC</td>\n",
              "      <td>2014-12-21 20:20:37 UTC</td>\n",
              "      <td>sales associate photographer</td>\n",
              "    </tr>\n",
              "    <tr>\n",
              "      <th>974</th>\n",
              "      <td>10516</td>\n",
              "      <td>84168</td>\n",
              "      <td>Track Equipment Maintainer @ MTA New York City...</td>\n",
              "      <td>MTA New York City Transit</td>\n",
              "      <td>Brooklyn</td>\n",
              "      <td>New York</td>\n",
              "      <td>NY</td>\n",
              "      <td>NaN</td>\n",
              "      <td>2014-12-21 20:16:12 UTC</td>\n",
              "      <td>2014-12-21 20:16:47 UTC</td>\n",
              "      <td>34.0</td>\n",
              "      <td>2014-12-21 20:16:12 UTC</td>\n",
              "      <td>2014-12-21 20:16:12 UTC</td>\n",
              "      <td>track equipment maintainer</td>\n",
              "    </tr>\n",
              "    <tr>\n",
              "      <th>976</th>\n",
              "      <td>10516</td>\n",
              "      <td>150667</td>\n",
              "      <td>Housekeeper @ New York Sports Clubs</td>\n",
              "      <td>New York Sports Clubs</td>\n",
              "      <td>Hawthorne</td>\n",
              "      <td>New York</td>\n",
              "      <td>NY</td>\n",
              "      <td>NaN</td>\n",
              "      <td>2014-12-21 20:23:39 UTC</td>\n",
              "      <td>2014-12-21 20:24:30 UTC</td>\n",
              "      <td>51.0</td>\n",
              "      <td>2014-12-21 20:23:39 UTC</td>\n",
              "      <td>2014-12-21 20:23:39 UTC</td>\n",
              "      <td>housekeeper</td>\n",
              "    </tr>\n",
              "    <tr>\n",
              "      <th>2414</th>\n",
              "      <td>11268</td>\n",
              "      <td>157861</td>\n",
              "      <td>Retail Positions Available: Produce, Deli, Bak...</td>\n",
              "      <td>NaN</td>\n",
              "      <td>Bronx</td>\n",
              "      <td>New York</td>\n",
              "      <td>NY</td>\n",
              "      <td>NaN</td>\n",
              "      <td>2015-01-03 18:36:42 UTC</td>\n",
              "      <td>2015-01-03 18:37:10 UTC</td>\n",
              "      <td>27.0</td>\n",
              "      <td>2015-01-03 18:36:42 UTC</td>\n",
              "      <td>2015-01-03 18:36:42 UTC</td>\n",
              "      <td>positions deli bakery cashiers</td>\n",
              "    </tr>\n",
              "    <tr>\n",
              "      <th>4624</th>\n",
              "      <td>12298</td>\n",
              "      <td>99484</td>\n",
              "      <td>Toys R Us Seasonal Sales Team Member @ Toys \"R...</td>\n",
              "      <td>Toys \"R\" Us, Inc</td>\n",
              "      <td>Brooklyn</td>\n",
              "      <td>New York</td>\n",
              "      <td>NY</td>\n",
              "      <td>NaN</td>\n",
              "      <td>2015-01-15 00:46:13 UTC</td>\n",
              "      <td>2015-01-15 00:47:09 UTC</td>\n",
              "      <td>56.0</td>\n",
              "      <td>2015-01-15 00:46:13 UTC</td>\n",
              "      <td>2015-01-15 00:46:13 UTC</td>\n",
              "      <td>toys sales team member</td>\n",
              "    </tr>\n",
              "    <tr>\n",
              "      <th>4628</th>\n",
              "      <td>12298</td>\n",
              "      <td>80449</td>\n",
              "      <td>Macy's Seasonal Retail Sales Part Time - New Y...</td>\n",
              "      <td>Macy's</td>\n",
              "      <td>New York</td>\n",
              "      <td>New York</td>\n",
              "      <td>NY</td>\n",
              "      <td>NaN</td>\n",
              "      <td>2015-01-15 01:02:16 UTC</td>\n",
              "      <td>2015-01-15 01:03:59 UTC</td>\n",
              "      <td>103.0</td>\n",
              "      <td>2015-01-15 01:02:16 UTC</td>\n",
              "      <td>2015-01-15 01:02:16 UTC</td>\n",
              "      <td>sales square</td>\n",
              "    </tr>\n",
              "    <tr>\n",
              "      <th>5590</th>\n",
              "      <td>12764</td>\n",
              "      <td>176138</td>\n",
              "      <td>Sports Event Ambassadors Needed for Downtown B...</td>\n",
              "      <td>Penda Aiken, Inc.</td>\n",
              "      <td>Brooklyn</td>\n",
              "      <td>New York</td>\n",
              "      <td>NY</td>\n",
              "      <td>NaN</td>\n",
              "      <td>2015-01-20 03:28:36 UTC</td>\n",
              "      <td>2015-01-20 03:30:08 UTC</td>\n",
              "      <td>91.0</td>\n",
              "      <td>2015-01-20 03:28:36 UTC</td>\n",
              "      <td>2015-01-20 03:28:36 UTC</td>\n",
              "      <td>sports event ambassadors downtown brooklyn events</td>\n",
              "    </tr>\n",
              "  </tbody>\n",
              "</table>\n",
              "</div>"
            ],
            "text/plain": [
              "      Applicant.ID  Job.ID                                              Title  \\\n",
              "970          10516   99081  Toys R Us Seasonal Off Hours Stock Crew @ Toys...   \n",
              "972          10516   79736  Retail Sales Associate / Photographer (Seasona...   \n",
              "974          10516   84168  Track Equipment Maintainer @ MTA New York City...   \n",
              "976          10516  150667                Housekeeper @ New York Sports Clubs   \n",
              "2414         11268  157861  Retail Positions Available: Produce, Deli, Bak...   \n",
              "4624         12298   99484  Toys R Us Seasonal Sales Team Member @ Toys \"R...   \n",
              "4628         12298   80449  Macy's Seasonal Retail Sales Part Time - New Y...   \n",
              "5590         12764  176138  Sports Event Ambassadors Needed for Downtown B...   \n",
              "\n",
              "                            Company       City State.Name State.Code Industry  \\\n",
              "970                Toys \"R\" Us, Inc   Brooklyn   New York         NY      NaN   \n",
              "972   J. C. Penney Portrait Studios   Brooklyn   New York         NY      NaN   \n",
              "974       MTA New York City Transit   Brooklyn   New York         NY      NaN   \n",
              "976           New York Sports Clubs  Hawthorne   New York         NY      NaN   \n",
              "2414                            NaN      Bronx   New York         NY      NaN   \n",
              "4624               Toys \"R\" Us, Inc   Brooklyn   New York         NY      NaN   \n",
              "4628                         Macy's   New York   New York         NY      NaN   \n",
              "5590              Penda Aiken, Inc.   Brooklyn   New York         NY      NaN   \n",
              "\n",
              "                   View.Start                 View.End  View.Duration  \\\n",
              "970   2014-12-21 20:17:09 UTC  2014-12-21 20:17:29 UTC           20.0   \n",
              "972   2014-12-21 20:20:37 UTC  2014-12-21 20:20:46 UTC            8.0   \n",
              "974   2014-12-21 20:16:12 UTC  2014-12-21 20:16:47 UTC           34.0   \n",
              "976   2014-12-21 20:23:39 UTC  2014-12-21 20:24:30 UTC           51.0   \n",
              "2414  2015-01-03 18:36:42 UTC  2015-01-03 18:37:10 UTC           27.0   \n",
              "4624  2015-01-15 00:46:13 UTC  2015-01-15 00:47:09 UTC           56.0   \n",
              "4628  2015-01-15 01:02:16 UTC  2015-01-15 01:03:59 UTC          103.0   \n",
              "5590  2015-01-20 03:28:36 UTC  2015-01-20 03:30:08 UTC           91.0   \n",
              "\n",
              "                   Created.At               Updated.At  \\\n",
              "970   2014-12-21 20:17:09 UTC  2014-12-21 20:17:09 UTC   \n",
              "972   2014-12-21 20:20:37 UTC  2014-12-21 20:20:37 UTC   \n",
              "974   2014-12-21 20:16:12 UTC  2014-12-21 20:16:12 UTC   \n",
              "976   2014-12-21 20:23:39 UTC  2014-12-21 20:23:39 UTC   \n",
              "2414  2015-01-03 18:36:42 UTC  2015-01-03 18:36:42 UTC   \n",
              "4624  2015-01-15 00:46:13 UTC  2015-01-15 00:46:13 UTC   \n",
              "4628  2015-01-15 01:02:16 UTC  2015-01-15 01:02:16 UTC   \n",
              "5590  2015-01-20 03:28:36 UTC  2015-01-20 03:28:36 UTC   \n",
              "\n",
              "                                            Title_clean  \n",
              "970                               toys hours stock crew  \n",
              "972                        sales associate photographer  \n",
              "974                          track equipment maintainer  \n",
              "976                                         housekeeper  \n",
              "2414                     positions deli bakery cashiers  \n",
              "4624                             toys sales team member  \n",
              "4628                                       sales square  \n",
              "5590  sports event ambassadors downtown brooklyn events  "
            ]
          },
          "execution_count": 130,
          "metadata": {},
          "output_type": "execute_result"
        }
      ],
      "source": [
        "getRecForApplIDWithStates(12615)"
      ]
    },
    {
      "cell_type": "markdown",
      "metadata": {
        "id": "jflh0YNBQexc"
      },
      "source": [
        "Finally, in this second example we can see how the ordinary recommendation contains more jobs than any of the other recommendations, and this is because applicant id 12615 has a neighbor that is applying at a different state than he is (NJ) and of couse, has a bunch of other ones that have applied in different cities"
      ]
    }
  ],
  "metadata": {
    "kernelspec": {
      "display_name": "Python 3.9.13 64-bit",
      "language": "python",
      "name": "python3"
    },
    "language_info": {
      "codemirror_mode": {
        "name": "ipython",
        "version": 3
      },
      "file_extension": ".py",
      "mimetype": "text/x-python",
      "name": "python",
      "nbconvert_exporter": "python",
      "pygments_lexer": "ipython3",
      "version": "3.9.13"
    },
    "orig_nbformat": 4,
    "vscode": {
      "interpreter": {
        "hash": "aee8b7b246df8f9039afb4144a1f6fd8d2ca17a180786b69acc140d282b71a49"
      }
    },
    "colab": {
      "provenance": [],
      "include_colab_link": true
    }
  },
  "nbformat": 4,
  "nbformat_minor": 0
}